{
 "cells": [
  {
   "cell_type": "markdown",
   "metadata": {},
   "source": [
    "The file contains the portfolio analysis of below companies - \n",
    "* Infosys\n",
    "* ICICI\n",
    "* Air India\n",
    "* Tana"
   ]
  },
  {
   "cell_type": "markdown",
   "metadata": {},
   "source": [
    "## Question 1"
   ]
  },
  {
   "cell_type": "markdown",
   "metadata": {},
   "source": [
    "## a) Calculate the daily gain for the stocks."
   ]
  },
  {
   "cell_type": "code",
   "execution_count": 1,
   "metadata": {
    "collapsed": true
   },
   "outputs": [],
   "source": [
    "# Libraries required\n",
    "import numpy as np\n",
    "import matplotlib.pyplot as plt\n",
    "%matplotlib inline\n",
    "import pandas as pd\n",
    "import seaborn as sn\n",
    "import math\n",
    "import scipy\n",
    "from scipy import stats\n",
    "import random"
   ]
  },
  {
   "cell_type": "code",
   "execution_count": 2,
   "metadata": {
    "collapsed": true
   },
   "outputs": [],
   "source": [
    "# reading the infosys daily prices\n",
    "infosys_df = pd.read_csv(\"Infosys.csv\")"
   ]
  },
  {
   "cell_type": "code",
   "execution_count": 3,
   "metadata": {},
   "outputs": [
    {
     "name": "stdout",
     "output_type": "stream",
     "text": [
      "<class 'pandas.core.frame.DataFrame'>\n",
      "RangeIndex: 984 entries, 0 to 983\n",
      "Data columns (total 13 columns):\n",
      "Date                         984 non-null object\n",
      "Open Price                   984 non-null float64\n",
      "High Price                   984 non-null float64\n",
      "Low Price                    984 non-null float64\n",
      "Close Price                  984 non-null float64\n",
      "WAP                          984 non-null float64\n",
      "No.of Shares                 984 non-null int64\n",
      "No. of Trades                984 non-null int64\n",
      "Total Turnover (Rs.)         984 non-null float64\n",
      "Deliverable Quantity         983 non-null float64\n",
      "% Deli. Qty to Traded Qty    983 non-null float64\n",
      "Spread High-Low              984 non-null float64\n",
      "Spread Close-Open            984 non-null float64\n",
      "dtypes: float64(10), int64(2), object(1)\n",
      "memory usage: 100.0+ KB\n"
     ]
    }
   ],
   "source": [
    "# Info about the infosys data\n",
    "infosys_df.info()"
   ]
  },
  {
   "cell_type": "code",
   "execution_count": 4,
   "metadata": {},
   "outputs": [
    {
     "data": {
      "text/html": [
       "<div>\n",
       "<style>\n",
       "    .dataframe thead tr:only-child th {\n",
       "        text-align: right;\n",
       "    }\n",
       "\n",
       "    .dataframe thead th {\n",
       "        text-align: left;\n",
       "    }\n",
       "\n",
       "    .dataframe tbody tr th {\n",
       "        vertical-align: top;\n",
       "    }\n",
       "</style>\n",
       "<table border=\"1\" class=\"dataframe\">\n",
       "  <thead>\n",
       "    <tr style=\"text-align: right;\">\n",
       "      <th></th>\n",
       "      <th>Date</th>\n",
       "      <th>Open Price</th>\n",
       "      <th>High Price</th>\n",
       "      <th>Low Price</th>\n",
       "      <th>Close Price</th>\n",
       "      <th>WAP</th>\n",
       "      <th>No.of Shares</th>\n",
       "      <th>No. of Trades</th>\n",
       "      <th>Total Turnover (Rs.)</th>\n",
       "      <th>Deliverable Quantity</th>\n",
       "      <th>% Deli. Qty to Traded Qty</th>\n",
       "      <th>Spread High-Low</th>\n",
       "      <th>Spread Close-Open</th>\n",
       "    </tr>\n",
       "  </thead>\n",
       "  <tbody>\n",
       "    <tr>\n",
       "      <th>0</th>\n",
       "      <td>28-March-2018</td>\n",
       "      <td>1153.00</td>\n",
       "      <td>1153.00</td>\n",
       "      <td>1129.00</td>\n",
       "      <td>1134.40</td>\n",
       "      <td>1140.268382</td>\n",
       "      <td>95733</td>\n",
       "      <td>2623</td>\n",
       "      <td>109161313.0</td>\n",
       "      <td>25845.0</td>\n",
       "      <td>27.00</td>\n",
       "      <td>24.00</td>\n",
       "      <td>-18.60</td>\n",
       "    </tr>\n",
       "    <tr>\n",
       "      <th>1</th>\n",
       "      <td>27-March-2018</td>\n",
       "      <td>1145.00</td>\n",
       "      <td>1170.00</td>\n",
       "      <td>1145.00</td>\n",
       "      <td>1152.80</td>\n",
       "      <td>1155.020906</td>\n",
       "      <td>109970</td>\n",
       "      <td>2388</td>\n",
       "      <td>127017649.0</td>\n",
       "      <td>33813.0</td>\n",
       "      <td>30.75</td>\n",
       "      <td>25.00</td>\n",
       "      <td>7.80</td>\n",
       "    </tr>\n",
       "    <tr>\n",
       "      <th>2</th>\n",
       "      <td>26-March-2018</td>\n",
       "      <td>1167.00</td>\n",
       "      <td>1167.00</td>\n",
       "      <td>1143.90</td>\n",
       "      <td>1154.30</td>\n",
       "      <td>1152.398242</td>\n",
       "      <td>196300</td>\n",
       "      <td>5327</td>\n",
       "      <td>226215775.0</td>\n",
       "      <td>79831.0</td>\n",
       "      <td>40.67</td>\n",
       "      <td>23.10</td>\n",
       "      <td>-12.70</td>\n",
       "    </tr>\n",
       "    <tr>\n",
       "      <th>3</th>\n",
       "      <td>23-March-2018</td>\n",
       "      <td>1145.00</td>\n",
       "      <td>1173.70</td>\n",
       "      <td>1140.00</td>\n",
       "      <td>1167.45</td>\n",
       "      <td>1165.935984</td>\n",
       "      <td>341510</td>\n",
       "      <td>9329</td>\n",
       "      <td>398178798.0</td>\n",
       "      <td>175792.0</td>\n",
       "      <td>51.47</td>\n",
       "      <td>33.70</td>\n",
       "      <td>22.45</td>\n",
       "    </tr>\n",
       "    <tr>\n",
       "      <th>4</th>\n",
       "      <td>22-March-2018</td>\n",
       "      <td>1166.90</td>\n",
       "      <td>1176.05</td>\n",
       "      <td>1153.60</td>\n",
       "      <td>1158.80</td>\n",
       "      <td>1167.602344</td>\n",
       "      <td>251295</td>\n",
       "      <td>2933</td>\n",
       "      <td>293412631.0</td>\n",
       "      <td>175841.0</td>\n",
       "      <td>69.97</td>\n",
       "      <td>22.45</td>\n",
       "      <td>-8.10</td>\n",
       "    </tr>\n",
       "    <tr>\n",
       "      <th>5</th>\n",
       "      <td>21-March-2018</td>\n",
       "      <td>1163.10</td>\n",
       "      <td>1176.60</td>\n",
       "      <td>1163.10</td>\n",
       "      <td>1168.60</td>\n",
       "      <td>1172.218381</td>\n",
       "      <td>88405</td>\n",
       "      <td>2275</td>\n",
       "      <td>103629966.0</td>\n",
       "      <td>32881.0</td>\n",
       "      <td>37.19</td>\n",
       "      <td>13.50</td>\n",
       "      <td>5.50</td>\n",
       "    </tr>\n",
       "    <tr>\n",
       "      <th>6</th>\n",
       "      <td>20-March-2018</td>\n",
       "      <td>1147.15</td>\n",
       "      <td>1170.00</td>\n",
       "      <td>1147.15</td>\n",
       "      <td>1162.10</td>\n",
       "      <td>1158.063540</td>\n",
       "      <td>692539</td>\n",
       "      <td>7440</td>\n",
       "      <td>802004166.0</td>\n",
       "      <td>421000.0</td>\n",
       "      <td>60.79</td>\n",
       "      <td>22.85</td>\n",
       "      <td>14.95</td>\n",
       "    </tr>\n",
       "    <tr>\n",
       "      <th>7</th>\n",
       "      <td>19-March-2018</td>\n",
       "      <td>1164.70</td>\n",
       "      <td>1180.00</td>\n",
       "      <td>1143.80</td>\n",
       "      <td>1147.15</td>\n",
       "      <td>1162.400582</td>\n",
       "      <td>277264</td>\n",
       "      <td>3313</td>\n",
       "      <td>322291835.0</td>\n",
       "      <td>194987.0</td>\n",
       "      <td>70.33</td>\n",
       "      <td>36.20</td>\n",
       "      <td>-17.55</td>\n",
       "    </tr>\n",
       "    <tr>\n",
       "      <th>8</th>\n",
       "      <td>16-March-2018</td>\n",
       "      <td>1184.80</td>\n",
       "      <td>1185.00</td>\n",
       "      <td>1169.00</td>\n",
       "      <td>1172.50</td>\n",
       "      <td>1174.954499</td>\n",
       "      <td>55362</td>\n",
       "      <td>1670</td>\n",
       "      <td>65047831.0</td>\n",
       "      <td>12588.0</td>\n",
       "      <td>22.74</td>\n",
       "      <td>16.00</td>\n",
       "      <td>-12.30</td>\n",
       "    </tr>\n",
       "    <tr>\n",
       "      <th>9</th>\n",
       "      <td>15-March-2018</td>\n",
       "      <td>1180.00</td>\n",
       "      <td>1187.90</td>\n",
       "      <td>1172.25</td>\n",
       "      <td>1182.15</td>\n",
       "      <td>1176.794276</td>\n",
       "      <td>459416</td>\n",
       "      <td>2521</td>\n",
       "      <td>540638119.0</td>\n",
       "      <td>34397.0</td>\n",
       "      <td>7.49</td>\n",
       "      <td>15.65</td>\n",
       "      <td>2.15</td>\n",
       "    </tr>\n",
       "  </tbody>\n",
       "</table>\n",
       "</div>"
      ],
      "text/plain": [
       "            Date  Open Price  High Price  Low Price  Close Price          WAP  \\\n",
       "0  28-March-2018     1153.00     1153.00    1129.00      1134.40  1140.268382   \n",
       "1  27-March-2018     1145.00     1170.00    1145.00      1152.80  1155.020906   \n",
       "2  26-March-2018     1167.00     1167.00    1143.90      1154.30  1152.398242   \n",
       "3  23-March-2018     1145.00     1173.70    1140.00      1167.45  1165.935984   \n",
       "4  22-March-2018     1166.90     1176.05    1153.60      1158.80  1167.602344   \n",
       "5  21-March-2018     1163.10     1176.60    1163.10      1168.60  1172.218381   \n",
       "6  20-March-2018     1147.15     1170.00    1147.15      1162.10  1158.063540   \n",
       "7  19-March-2018     1164.70     1180.00    1143.80      1147.15  1162.400582   \n",
       "8  16-March-2018     1184.80     1185.00    1169.00      1172.50  1174.954499   \n",
       "9  15-March-2018     1180.00     1187.90    1172.25      1182.15  1176.794276   \n",
       "\n",
       "   No.of Shares  No. of Trades  Total Turnover (Rs.)  Deliverable Quantity  \\\n",
       "0         95733           2623           109161313.0               25845.0   \n",
       "1        109970           2388           127017649.0               33813.0   \n",
       "2        196300           5327           226215775.0               79831.0   \n",
       "3        341510           9329           398178798.0              175792.0   \n",
       "4        251295           2933           293412631.0              175841.0   \n",
       "5         88405           2275           103629966.0               32881.0   \n",
       "6        692539           7440           802004166.0              421000.0   \n",
       "7        277264           3313           322291835.0              194987.0   \n",
       "8         55362           1670            65047831.0               12588.0   \n",
       "9        459416           2521           540638119.0               34397.0   \n",
       "\n",
       "   % Deli. Qty to Traded Qty  Spread High-Low  Spread Close-Open  \n",
       "0                      27.00            24.00             -18.60  \n",
       "1                      30.75            25.00               7.80  \n",
       "2                      40.67            23.10             -12.70  \n",
       "3                      51.47            33.70              22.45  \n",
       "4                      69.97            22.45              -8.10  \n",
       "5                      37.19            13.50               5.50  \n",
       "6                      60.79            22.85              14.95  \n",
       "7                      70.33            36.20             -17.55  \n",
       "8                      22.74            16.00             -12.30  \n",
       "9                       7.49            15.65               2.15  "
      ]
     },
     "execution_count": 4,
     "metadata": {},
     "output_type": "execute_result"
    }
   ],
   "source": [
    "# Check the inital values\n",
    "infosys_df.head(10)"
   ]
  },
  {
   "cell_type": "code",
   "execution_count": 5,
   "metadata": {
    "collapsed": true
   },
   "outputs": [],
   "source": [
    "# reading the icici daily prices\n",
    "icici_df = pd.read_csv(\"icici.csv\")"
   ]
  },
  {
   "cell_type": "code",
   "execution_count": 6,
   "metadata": {},
   "outputs": [
    {
     "data": {
      "text/html": [
       "<div>\n",
       "<style>\n",
       "    .dataframe thead tr:only-child th {\n",
       "        text-align: right;\n",
       "    }\n",
       "\n",
       "    .dataframe thead th {\n",
       "        text-align: left;\n",
       "    }\n",
       "\n",
       "    .dataframe tbody tr th {\n",
       "        vertical-align: top;\n",
       "    }\n",
       "</style>\n",
       "<table border=\"1\" class=\"dataframe\">\n",
       "  <thead>\n",
       "    <tr style=\"text-align: right;\">\n",
       "      <th></th>\n",
       "      <th>Date</th>\n",
       "      <th>Open Price</th>\n",
       "      <th>High Price</th>\n",
       "      <th>Low Price</th>\n",
       "      <th>Close Price</th>\n",
       "      <th>WAP</th>\n",
       "      <th>No.of Shares</th>\n",
       "      <th>No. of Trades</th>\n",
       "      <th>Total Turnover (Rs.)</th>\n",
       "      <th>Deliverable Quantity</th>\n",
       "      <th>% Deli. Qty to Traded Qty</th>\n",
       "      <th>Spread High-Low</th>\n",
       "      <th>Spread Close-Open</th>\n",
       "    </tr>\n",
       "  </thead>\n",
       "  <tbody>\n",
       "    <tr>\n",
       "      <th>0</th>\n",
       "      <td>28-March-2018</td>\n",
       "      <td>283.00</td>\n",
       "      <td>283.00</td>\n",
       "      <td>277.40</td>\n",
       "      <td>278.40</td>\n",
       "      <td>279.594366</td>\n",
       "      <td>485906</td>\n",
       "      <td>3614</td>\n",
       "      <td>135856580.0</td>\n",
       "      <td>123549.0</td>\n",
       "      <td>25.43</td>\n",
       "      <td>5.60</td>\n",
       "      <td>-4.60</td>\n",
       "    </tr>\n",
       "    <tr>\n",
       "      <th>1</th>\n",
       "      <td>27-March-2018</td>\n",
       "      <td>283.00</td>\n",
       "      <td>287.80</td>\n",
       "      <td>281.30</td>\n",
       "      <td>283.90</td>\n",
       "      <td>285.701011</td>\n",
       "      <td>1999278</td>\n",
       "      <td>8216</td>\n",
       "      <td>571195745.0</td>\n",
       "      <td>1187265.0</td>\n",
       "      <td>59.38</td>\n",
       "      <td>6.50</td>\n",
       "      <td>0.90</td>\n",
       "    </tr>\n",
       "    <tr>\n",
       "      <th>2</th>\n",
       "      <td>26-March-2018</td>\n",
       "      <td>275.55</td>\n",
       "      <td>282.80</td>\n",
       "      <td>275.55</td>\n",
       "      <td>281.45</td>\n",
       "      <td>278.836381</td>\n",
       "      <td>2856987</td>\n",
       "      <td>9265</td>\n",
       "      <td>796631916.0</td>\n",
       "      <td>1989932.0</td>\n",
       "      <td>69.65</td>\n",
       "      <td>7.25</td>\n",
       "      <td>5.90</td>\n",
       "    </tr>\n",
       "    <tr>\n",
       "      <th>3</th>\n",
       "      <td>23-March-2018</td>\n",
       "      <td>277.00</td>\n",
       "      <td>277.85</td>\n",
       "      <td>273.65</td>\n",
       "      <td>275.80</td>\n",
       "      <td>275.764629</td>\n",
       "      <td>1348434</td>\n",
       "      <td>7409</td>\n",
       "      <td>371850402.0</td>\n",
       "      <td>489721.0</td>\n",
       "      <td>36.32</td>\n",
       "      <td>4.20</td>\n",
       "      <td>-1.20</td>\n",
       "    </tr>\n",
       "    <tr>\n",
       "      <th>4</th>\n",
       "      <td>22-March-2018</td>\n",
       "      <td>289.60</td>\n",
       "      <td>289.70</td>\n",
       "      <td>281.15</td>\n",
       "      <td>283.55</td>\n",
       "      <td>284.025401</td>\n",
       "      <td>1184139</td>\n",
       "      <td>5928</td>\n",
       "      <td>336325554.0</td>\n",
       "      <td>481989.0</td>\n",
       "      <td>40.70</td>\n",
       "      <td>8.55</td>\n",
       "      <td>-6.05</td>\n",
       "    </tr>\n",
       "    <tr>\n",
       "      <th>5</th>\n",
       "      <td>21-March-2018</td>\n",
       "      <td>294.55</td>\n",
       "      <td>296.50</td>\n",
       "      <td>287.50</td>\n",
       "      <td>289.60</td>\n",
       "      <td>290.857054</td>\n",
       "      <td>2153080</td>\n",
       "      <td>4975</td>\n",
       "      <td>626238506.0</td>\n",
       "      <td>1812882.0</td>\n",
       "      <td>84.20</td>\n",
       "      <td>9.00</td>\n",
       "      <td>-4.95</td>\n",
       "    </tr>\n",
       "    <tr>\n",
       "      <th>6</th>\n",
       "      <td>20-March-2018</td>\n",
       "      <td>292.55</td>\n",
       "      <td>297.00</td>\n",
       "      <td>290.35</td>\n",
       "      <td>291.75</td>\n",
       "      <td>292.812232</td>\n",
       "      <td>3346354</td>\n",
       "      <td>4131</td>\n",
       "      <td>979853383.0</td>\n",
       "      <td>2798867.0</td>\n",
       "      <td>83.64</td>\n",
       "      <td>6.65</td>\n",
       "      <td>-0.80</td>\n",
       "    </tr>\n",
       "    <tr>\n",
       "      <th>7</th>\n",
       "      <td>19-March-2018</td>\n",
       "      <td>298.10</td>\n",
       "      <td>299.95</td>\n",
       "      <td>291.30</td>\n",
       "      <td>295.00</td>\n",
       "      <td>295.001752</td>\n",
       "      <td>986702</td>\n",
       "      <td>8598</td>\n",
       "      <td>291078819.0</td>\n",
       "      <td>405047.0</td>\n",
       "      <td>41.05</td>\n",
       "      <td>8.65</td>\n",
       "      <td>-3.10</td>\n",
       "    </tr>\n",
       "    <tr>\n",
       "      <th>8</th>\n",
       "      <td>16-March-2018</td>\n",
       "      <td>302.80</td>\n",
       "      <td>302.80</td>\n",
       "      <td>297.40</td>\n",
       "      <td>298.10</td>\n",
       "      <td>299.583884</td>\n",
       "      <td>808232</td>\n",
       "      <td>4674</td>\n",
       "      <td>242133282.0</td>\n",
       "      <td>226069.0</td>\n",
       "      <td>27.97</td>\n",
       "      <td>5.40</td>\n",
       "      <td>-4.70</td>\n",
       "    </tr>\n",
       "    <tr>\n",
       "      <th>9</th>\n",
       "      <td>15-March-2018</td>\n",
       "      <td>306.90</td>\n",
       "      <td>306.90</td>\n",
       "      <td>300.65</td>\n",
       "      <td>301.45</td>\n",
       "      <td>302.878584</td>\n",
       "      <td>945969</td>\n",
       "      <td>6372</td>\n",
       "      <td>286513751.0</td>\n",
       "      <td>503207.0</td>\n",
       "      <td>53.19</td>\n",
       "      <td>6.25</td>\n",
       "      <td>-5.45</td>\n",
       "    </tr>\n",
       "  </tbody>\n",
       "</table>\n",
       "</div>"
      ],
      "text/plain": [
       "            Date  Open Price  High Price  Low Price  Close Price         WAP  \\\n",
       "0  28-March-2018      283.00      283.00     277.40       278.40  279.594366   \n",
       "1  27-March-2018      283.00      287.80     281.30       283.90  285.701011   \n",
       "2  26-March-2018      275.55      282.80     275.55       281.45  278.836381   \n",
       "3  23-March-2018      277.00      277.85     273.65       275.80  275.764629   \n",
       "4  22-March-2018      289.60      289.70     281.15       283.55  284.025401   \n",
       "5  21-March-2018      294.55      296.50     287.50       289.60  290.857054   \n",
       "6  20-March-2018      292.55      297.00     290.35       291.75  292.812232   \n",
       "7  19-March-2018      298.10      299.95     291.30       295.00  295.001752   \n",
       "8  16-March-2018      302.80      302.80     297.40       298.10  299.583884   \n",
       "9  15-March-2018      306.90      306.90     300.65       301.45  302.878584   \n",
       "\n",
       "   No.of Shares  No. of Trades  Total Turnover (Rs.)  Deliverable Quantity  \\\n",
       "0        485906           3614           135856580.0              123549.0   \n",
       "1       1999278           8216           571195745.0             1187265.0   \n",
       "2       2856987           9265           796631916.0             1989932.0   \n",
       "3       1348434           7409           371850402.0              489721.0   \n",
       "4       1184139           5928           336325554.0              481989.0   \n",
       "5       2153080           4975           626238506.0             1812882.0   \n",
       "6       3346354           4131           979853383.0             2798867.0   \n",
       "7        986702           8598           291078819.0              405047.0   \n",
       "8        808232           4674           242133282.0              226069.0   \n",
       "9        945969           6372           286513751.0              503207.0   \n",
       "\n",
       "   % Deli. Qty to Traded Qty  Spread High-Low  Spread Close-Open  \n",
       "0                      25.43             5.60              -4.60  \n",
       "1                      59.38             6.50               0.90  \n",
       "2                      69.65             7.25               5.90  \n",
       "3                      36.32             4.20              -1.20  \n",
       "4                      40.70             8.55              -6.05  \n",
       "5                      84.20             9.00              -4.95  \n",
       "6                      83.64             6.65              -0.80  \n",
       "7                      41.05             8.65              -3.10  \n",
       "8                      27.97             5.40              -4.70  \n",
       "9                      53.19             6.25              -5.45  "
      ]
     },
     "execution_count": 6,
     "metadata": {},
     "output_type": "execute_result"
    }
   ],
   "source": [
    "icici_df.head(10)"
   ]
  },
  {
   "cell_type": "code",
   "execution_count": 7,
   "metadata": {
    "collapsed": true
   },
   "outputs": [],
   "source": [
    "# reading the Air india daily prices\n",
    "AI_df = pd.read_csv(\"AirIndia.csv\")"
   ]
  },
  {
   "cell_type": "code",
   "execution_count": 8,
   "metadata": {},
   "outputs": [
    {
     "data": {
      "text/html": [
       "<div>\n",
       "<style>\n",
       "    .dataframe thead tr:only-child th {\n",
       "        text-align: right;\n",
       "    }\n",
       "\n",
       "    .dataframe thead th {\n",
       "        text-align: left;\n",
       "    }\n",
       "\n",
       "    .dataframe tbody tr th {\n",
       "        vertical-align: top;\n",
       "    }\n",
       "</style>\n",
       "<table border=\"1\" class=\"dataframe\">\n",
       "  <thead>\n",
       "    <tr style=\"text-align: right;\">\n",
       "      <th></th>\n",
       "      <th>Date</th>\n",
       "      <th>Open Price</th>\n",
       "      <th>High Price</th>\n",
       "      <th>Low Price</th>\n",
       "      <th>Close Price</th>\n",
       "      <th>WAP</th>\n",
       "      <th>No.of Shares</th>\n",
       "      <th>No. of Trades</th>\n",
       "      <th>Total Turnover (Rs.)</th>\n",
       "      <th>Deliverable Quantity</th>\n",
       "      <th>% Deli. Qty to Traded Qty</th>\n",
       "      <th>Spread High-Low</th>\n",
       "      <th>Spread Close-Open</th>\n",
       "    </tr>\n",
       "  </thead>\n",
       "  <tbody>\n",
       "    <tr>\n",
       "      <th>0</th>\n",
       "      <td>28-March-2018</td>\n",
       "      <td>412.00</td>\n",
       "      <td>415.00</td>\n",
       "      <td>396.00</td>\n",
       "      <td>398.90</td>\n",
       "      <td>402.321973</td>\n",
       "      <td>304563</td>\n",
       "      <td>3960</td>\n",
       "      <td>122532387.0</td>\n",
       "      <td>75102.0</td>\n",
       "      <td>24.66</td>\n",
       "      <td>19.00</td>\n",
       "      <td>-13.10</td>\n",
       "    </tr>\n",
       "    <tr>\n",
       "      <th>1</th>\n",
       "      <td>27-March-2018</td>\n",
       "      <td>420.20</td>\n",
       "      <td>421.70</td>\n",
       "      <td>400.90</td>\n",
       "      <td>411.45</td>\n",
       "      <td>413.129061</td>\n",
       "      <td>348989</td>\n",
       "      <td>4034</td>\n",
       "      <td>144177498.0</td>\n",
       "      <td>61766.0</td>\n",
       "      <td>17.70</td>\n",
       "      <td>20.80</td>\n",
       "      <td>-8.75</td>\n",
       "    </tr>\n",
       "    <tr>\n",
       "      <th>2</th>\n",
       "      <td>26-March-2018</td>\n",
       "      <td>412.00</td>\n",
       "      <td>422.95</td>\n",
       "      <td>406.70</td>\n",
       "      <td>421.65</td>\n",
       "      <td>414.223451</td>\n",
       "      <td>151975</td>\n",
       "      <td>2070</td>\n",
       "      <td>62951609.0</td>\n",
       "      <td>30875.0</td>\n",
       "      <td>20.32</td>\n",
       "      <td>16.25</td>\n",
       "      <td>9.65</td>\n",
       "    </tr>\n",
       "    <tr>\n",
       "      <th>3</th>\n",
       "      <td>23-March-2018</td>\n",
       "      <td>410.00</td>\n",
       "      <td>419.05</td>\n",
       "      <td>405.40</td>\n",
       "      <td>411.15</td>\n",
       "      <td>410.044839</td>\n",
       "      <td>703700</td>\n",
       "      <td>9012</td>\n",
       "      <td>288548553.0</td>\n",
       "      <td>278391.0</td>\n",
       "      <td>39.56</td>\n",
       "      <td>13.65</td>\n",
       "      <td>1.15</td>\n",
       "    </tr>\n",
       "    <tr>\n",
       "      <th>4</th>\n",
       "      <td>22-March-2018</td>\n",
       "      <td>415.25</td>\n",
       "      <td>420.00</td>\n",
       "      <td>412.00</td>\n",
       "      <td>415.25</td>\n",
       "      <td>415.998575</td>\n",
       "      <td>341744</td>\n",
       "      <td>4985</td>\n",
       "      <td>142165017.0</td>\n",
       "      <td>135465.0</td>\n",
       "      <td>39.64</td>\n",
       "      <td>8.00</td>\n",
       "      <td>0.00</td>\n",
       "    </tr>\n",
       "    <tr>\n",
       "      <th>5</th>\n",
       "      <td>21-March-2018</td>\n",
       "      <td>407.00</td>\n",
       "      <td>420.00</td>\n",
       "      <td>403.00</td>\n",
       "      <td>418.60</td>\n",
       "      <td>414.235667</td>\n",
       "      <td>376090</td>\n",
       "      <td>5953</td>\n",
       "      <td>155789892.0</td>\n",
       "      <td>95887.0</td>\n",
       "      <td>25.50</td>\n",
       "      <td>17.00</td>\n",
       "      <td>11.60</td>\n",
       "    </tr>\n",
       "    <tr>\n",
       "      <th>6</th>\n",
       "      <td>20-March-2018</td>\n",
       "      <td>400.00</td>\n",
       "      <td>403.55</td>\n",
       "      <td>393.50</td>\n",
       "      <td>400.15</td>\n",
       "      <td>398.435052</td>\n",
       "      <td>250324</td>\n",
       "      <td>3333</td>\n",
       "      <td>99737856.0</td>\n",
       "      <td>41030.0</td>\n",
       "      <td>16.39</td>\n",
       "      <td>10.05</td>\n",
       "      <td>0.15</td>\n",
       "    </tr>\n",
       "    <tr>\n",
       "      <th>7</th>\n",
       "      <td>19-March-2018</td>\n",
       "      <td>418.50</td>\n",
       "      <td>421.55</td>\n",
       "      <td>397.50</td>\n",
       "      <td>400.80</td>\n",
       "      <td>407.767076</td>\n",
       "      <td>224975</td>\n",
       "      <td>2942</td>\n",
       "      <td>91737398.0</td>\n",
       "      <td>85732.0</td>\n",
       "      <td>38.11</td>\n",
       "      <td>24.05</td>\n",
       "      <td>-17.70</td>\n",
       "    </tr>\n",
       "    <tr>\n",
       "      <th>8</th>\n",
       "      <td>16-March-2018</td>\n",
       "      <td>418.00</td>\n",
       "      <td>426.70</td>\n",
       "      <td>415.00</td>\n",
       "      <td>418.20</td>\n",
       "      <td>420.886926</td>\n",
       "      <td>891673</td>\n",
       "      <td>1821</td>\n",
       "      <td>375293508.0</td>\n",
       "      <td>36838.0</td>\n",
       "      <td>4.13</td>\n",
       "      <td>11.70</td>\n",
       "      <td>0.20</td>\n",
       "    </tr>\n",
       "    <tr>\n",
       "      <th>9</th>\n",
       "      <td>15-March-2018</td>\n",
       "      <td>421.00</td>\n",
       "      <td>429.00</td>\n",
       "      <td>417.65</td>\n",
       "      <td>420.70</td>\n",
       "      <td>419.705725</td>\n",
       "      <td>1427529</td>\n",
       "      <td>1844</td>\n",
       "      <td>599142094.0</td>\n",
       "      <td>370428.0</td>\n",
       "      <td>25.95</td>\n",
       "      <td>11.35</td>\n",
       "      <td>-0.30</td>\n",
       "    </tr>\n",
       "  </tbody>\n",
       "</table>\n",
       "</div>"
      ],
      "text/plain": [
       "            Date  Open Price  High Price  Low Price  Close Price         WAP  \\\n",
       "0  28-March-2018      412.00      415.00     396.00       398.90  402.321973   \n",
       "1  27-March-2018      420.20      421.70     400.90       411.45  413.129061   \n",
       "2  26-March-2018      412.00      422.95     406.70       421.65  414.223451   \n",
       "3  23-March-2018      410.00      419.05     405.40       411.15  410.044839   \n",
       "4  22-March-2018      415.25      420.00     412.00       415.25  415.998575   \n",
       "5  21-March-2018      407.00      420.00     403.00       418.60  414.235667   \n",
       "6  20-March-2018      400.00      403.55     393.50       400.15  398.435052   \n",
       "7  19-March-2018      418.50      421.55     397.50       400.80  407.767076   \n",
       "8  16-March-2018      418.00      426.70     415.00       418.20  420.886926   \n",
       "9  15-March-2018      421.00      429.00     417.65       420.70  419.705725   \n",
       "\n",
       "   No.of Shares  No. of Trades  Total Turnover (Rs.)  Deliverable Quantity  \\\n",
       "0        304563           3960           122532387.0               75102.0   \n",
       "1        348989           4034           144177498.0               61766.0   \n",
       "2        151975           2070            62951609.0               30875.0   \n",
       "3        703700           9012           288548553.0              278391.0   \n",
       "4        341744           4985           142165017.0              135465.0   \n",
       "5        376090           5953           155789892.0               95887.0   \n",
       "6        250324           3333            99737856.0               41030.0   \n",
       "7        224975           2942            91737398.0               85732.0   \n",
       "8        891673           1821           375293508.0               36838.0   \n",
       "9       1427529           1844           599142094.0              370428.0   \n",
       "\n",
       "   % Deli. Qty to Traded Qty  Spread High-Low  Spread Close-Open  \n",
       "0                      24.66            19.00             -13.10  \n",
       "1                      17.70            20.80              -8.75  \n",
       "2                      20.32            16.25               9.65  \n",
       "3                      39.56            13.65               1.15  \n",
       "4                      39.64             8.00               0.00  \n",
       "5                      25.50            17.00              11.60  \n",
       "6                      16.39            10.05               0.15  \n",
       "7                      38.11            24.05             -17.70  \n",
       "8                       4.13            11.70               0.20  \n",
       "9                      25.95            11.35              -0.30  "
      ]
     },
     "execution_count": 8,
     "metadata": {},
     "output_type": "execute_result"
    }
   ],
   "source": [
    "AI_df.head(10)"
   ]
  },
  {
   "cell_type": "code",
   "execution_count": 9,
   "metadata": {
    "collapsed": true
   },
   "outputs": [],
   "source": [
    "# reading the tata motor daily prices\n",
    "tataM_df = pd.read_csv(\"TataMotors.csv\")"
   ]
  },
  {
   "cell_type": "code",
   "execution_count": 10,
   "metadata": {},
   "outputs": [
    {
     "data": {
      "text/html": [
       "<div>\n",
       "<style>\n",
       "    .dataframe thead tr:only-child th {\n",
       "        text-align: right;\n",
       "    }\n",
       "\n",
       "    .dataframe thead th {\n",
       "        text-align: left;\n",
       "    }\n",
       "\n",
       "    .dataframe tbody tr th {\n",
       "        vertical-align: top;\n",
       "    }\n",
       "</style>\n",
       "<table border=\"1\" class=\"dataframe\">\n",
       "  <thead>\n",
       "    <tr style=\"text-align: right;\">\n",
       "      <th></th>\n",
       "      <th>Date</th>\n",
       "      <th>Open Price</th>\n",
       "      <th>High Price</th>\n",
       "      <th>Low Price</th>\n",
       "      <th>Close Price</th>\n",
       "      <th>WAP</th>\n",
       "      <th>No.of Shares</th>\n",
       "      <th>No. of Trades</th>\n",
       "      <th>Total Turnover (Rs.)</th>\n",
       "      <th>Deliverable Quantity</th>\n",
       "      <th>% Deli. Qty to Traded Qty</th>\n",
       "      <th>Spread High-Low</th>\n",
       "      <th>Spread Close-Open</th>\n",
       "    </tr>\n",
       "  </thead>\n",
       "  <tbody>\n",
       "    <tr>\n",
       "      <th>0</th>\n",
       "      <td>28-March-2018</td>\n",
       "      <td>331.25</td>\n",
       "      <td>333.75</td>\n",
       "      <td>326.15</td>\n",
       "      <td>327.45</td>\n",
       "      <td>330.068565</td>\n",
       "      <td>494682</td>\n",
       "      <td>5269</td>\n",
       "      <td>163278978.0</td>\n",
       "      <td>175606.0</td>\n",
       "      <td>35.50</td>\n",
       "      <td>7.6</td>\n",
       "      <td>-3.80</td>\n",
       "    </tr>\n",
       "    <tr>\n",
       "      <th>1</th>\n",
       "      <td>27-March-2018</td>\n",
       "      <td>333.90</td>\n",
       "      <td>335.70</td>\n",
       "      <td>330.00</td>\n",
       "      <td>331.05</td>\n",
       "      <td>332.975554</td>\n",
       "      <td>432538</td>\n",
       "      <td>4140</td>\n",
       "      <td>144024580.0</td>\n",
       "      <td>160260.0</td>\n",
       "      <td>37.05</td>\n",
       "      <td>5.7</td>\n",
       "      <td>-2.85</td>\n",
       "    </tr>\n",
       "    <tr>\n",
       "      <th>2</th>\n",
       "      <td>26-March-2018</td>\n",
       "      <td>330.00</td>\n",
       "      <td>333.70</td>\n",
       "      <td>324.50</td>\n",
       "      <td>332.05</td>\n",
       "      <td>328.866346</td>\n",
       "      <td>629409</td>\n",
       "      <td>6425</td>\n",
       "      <td>206991438.0</td>\n",
       "      <td>192970.0</td>\n",
       "      <td>30.66</td>\n",
       "      <td>9.2</td>\n",
       "      <td>2.05</td>\n",
       "    </tr>\n",
       "    <tr>\n",
       "      <th>3</th>\n",
       "      <td>23-March-2018</td>\n",
       "      <td>331.00</td>\n",
       "      <td>335.00</td>\n",
       "      <td>330.10</td>\n",
       "      <td>331.10</td>\n",
       "      <td>331.996053</td>\n",
       "      <td>496525</td>\n",
       "      <td>6363</td>\n",
       "      <td>164844340.0</td>\n",
       "      <td>186412.0</td>\n",
       "      <td>37.54</td>\n",
       "      <td>4.9</td>\n",
       "      <td>0.10</td>\n",
       "    </tr>\n",
       "    <tr>\n",
       "      <th>4</th>\n",
       "      <td>22-March-2018</td>\n",
       "      <td>339.80</td>\n",
       "      <td>339.90</td>\n",
       "      <td>335.00</td>\n",
       "      <td>338.20</td>\n",
       "      <td>337.966973</td>\n",
       "      <td>481307</td>\n",
       "      <td>5298</td>\n",
       "      <td>162665870.0</td>\n",
       "      <td>116768.0</td>\n",
       "      <td>24.26</td>\n",
       "      <td>4.9</td>\n",
       "      <td>-1.60</td>\n",
       "    </tr>\n",
       "    <tr>\n",
       "      <th>5</th>\n",
       "      <td>21-March-2018</td>\n",
       "      <td>340.00</td>\n",
       "      <td>342.30</td>\n",
       "      <td>332.60</td>\n",
       "      <td>333.90</td>\n",
       "      <td>337.159359</td>\n",
       "      <td>494549</td>\n",
       "      <td>4928</td>\n",
       "      <td>166741824.0</td>\n",
       "      <td>163375.0</td>\n",
       "      <td>33.04</td>\n",
       "      <td>9.7</td>\n",
       "      <td>-6.10</td>\n",
       "    </tr>\n",
       "    <tr>\n",
       "      <th>6</th>\n",
       "      <td>20-March-2018</td>\n",
       "      <td>335.75</td>\n",
       "      <td>340.40</td>\n",
       "      <td>333.40</td>\n",
       "      <td>339.25</td>\n",
       "      <td>338.304501</td>\n",
       "      <td>366544</td>\n",
       "      <td>4119</td>\n",
       "      <td>124003485.0</td>\n",
       "      <td>105445.0</td>\n",
       "      <td>28.77</td>\n",
       "      <td>7.0</td>\n",
       "      <td>3.50</td>\n",
       "    </tr>\n",
       "    <tr>\n",
       "      <th>7</th>\n",
       "      <td>19-March-2018</td>\n",
       "      <td>341.90</td>\n",
       "      <td>342.45</td>\n",
       "      <td>332.55</td>\n",
       "      <td>335.75</td>\n",
       "      <td>336.804862</td>\n",
       "      <td>559922</td>\n",
       "      <td>10756</td>\n",
       "      <td>188584452.0</td>\n",
       "      <td>203272.0</td>\n",
       "      <td>36.30</td>\n",
       "      <td>9.9</td>\n",
       "      <td>-6.15</td>\n",
       "    </tr>\n",
       "    <tr>\n",
       "      <th>8</th>\n",
       "      <td>16-March-2018</td>\n",
       "      <td>352.90</td>\n",
       "      <td>352.90</td>\n",
       "      <td>339.00</td>\n",
       "      <td>340.10</td>\n",
       "      <td>343.699431</td>\n",
       "      <td>707153</td>\n",
       "      <td>8572</td>\n",
       "      <td>243048084.0</td>\n",
       "      <td>280691.0</td>\n",
       "      <td>39.69</td>\n",
       "      <td>13.9</td>\n",
       "      <td>-12.80</td>\n",
       "    </tr>\n",
       "    <tr>\n",
       "      <th>9</th>\n",
       "      <td>15-March-2018</td>\n",
       "      <td>355.00</td>\n",
       "      <td>358.40</td>\n",
       "      <td>351.30</td>\n",
       "      <td>353.05</td>\n",
       "      <td>354.650037</td>\n",
       "      <td>2625555</td>\n",
       "      <td>4427</td>\n",
       "      <td>931153177.0</td>\n",
       "      <td>2111294.0</td>\n",
       "      <td>80.41</td>\n",
       "      <td>7.1</td>\n",
       "      <td>-1.95</td>\n",
       "    </tr>\n",
       "  </tbody>\n",
       "</table>\n",
       "</div>"
      ],
      "text/plain": [
       "            Date  Open Price  High Price  Low Price  Close Price         WAP  \\\n",
       "0  28-March-2018      331.25      333.75     326.15       327.45  330.068565   \n",
       "1  27-March-2018      333.90      335.70     330.00       331.05  332.975554   \n",
       "2  26-March-2018      330.00      333.70     324.50       332.05  328.866346   \n",
       "3  23-March-2018      331.00      335.00     330.10       331.10  331.996053   \n",
       "4  22-March-2018      339.80      339.90     335.00       338.20  337.966973   \n",
       "5  21-March-2018      340.00      342.30     332.60       333.90  337.159359   \n",
       "6  20-March-2018      335.75      340.40     333.40       339.25  338.304501   \n",
       "7  19-March-2018      341.90      342.45     332.55       335.75  336.804862   \n",
       "8  16-March-2018      352.90      352.90     339.00       340.10  343.699431   \n",
       "9  15-March-2018      355.00      358.40     351.30       353.05  354.650037   \n",
       "\n",
       "   No.of Shares  No. of Trades  Total Turnover (Rs.)  Deliverable Quantity  \\\n",
       "0        494682           5269           163278978.0              175606.0   \n",
       "1        432538           4140           144024580.0              160260.0   \n",
       "2        629409           6425           206991438.0              192970.0   \n",
       "3        496525           6363           164844340.0              186412.0   \n",
       "4        481307           5298           162665870.0              116768.0   \n",
       "5        494549           4928           166741824.0              163375.0   \n",
       "6        366544           4119           124003485.0              105445.0   \n",
       "7        559922          10756           188584452.0              203272.0   \n",
       "8        707153           8572           243048084.0              280691.0   \n",
       "9       2625555           4427           931153177.0             2111294.0   \n",
       "\n",
       "   % Deli. Qty to Traded Qty  Spread High-Low  Spread Close-Open  \n",
       "0                      35.50              7.6              -3.80  \n",
       "1                      37.05              5.7              -2.85  \n",
       "2                      30.66              9.2               2.05  \n",
       "3                      37.54              4.9               0.10  \n",
       "4                      24.26              4.9              -1.60  \n",
       "5                      33.04              9.7              -6.10  \n",
       "6                      28.77              7.0               3.50  \n",
       "7                      36.30              9.9              -6.15  \n",
       "8                      39.69             13.9             -12.80  \n",
       "9                      80.41              7.1              -1.95  "
      ]
     },
     "execution_count": 10,
     "metadata": {},
     "output_type": "execute_result"
    }
   ],
   "source": [
    "tataM_df.head(10)"
   ]
  },
  {
   "cell_type": "code",
   "execution_count": 11,
   "metadata": {
    "collapsed": true
   },
   "outputs": [],
   "source": [
    "infosys_df['gain'] = infosys_df['Close Price'].pct_change(-1).fillna(0)"
   ]
  },
  {
   "cell_type": "code",
   "execution_count": 12,
   "metadata": {},
   "outputs": [
    {
     "data": {
      "text/plain": [
       "pandas.core.frame.DataFrame"
      ]
     },
     "execution_count": 12,
     "metadata": {},
     "output_type": "execute_result"
    }
   ],
   "source": [
    "type(infosys_df)"
   ]
  },
  {
   "cell_type": "code",
   "execution_count": 13,
   "metadata": {
    "collapsed": true
   },
   "outputs": [],
   "source": [
    "# Percentage gain of infosys \n",
    "infosys_df['gain%'] = (infosys_df['Close Price'].pct_change(-1).fillna(0))*100"
   ]
  },
  {
   "cell_type": "code",
   "execution_count": 14,
   "metadata": {},
   "outputs": [
    {
     "data": {
      "text/html": [
       "<div>\n",
       "<style>\n",
       "    .dataframe thead tr:only-child th {\n",
       "        text-align: right;\n",
       "    }\n",
       "\n",
       "    .dataframe thead th {\n",
       "        text-align: left;\n",
       "    }\n",
       "\n",
       "    .dataframe tbody tr th {\n",
       "        vertical-align: top;\n",
       "    }\n",
       "</style>\n",
       "<table border=\"1\" class=\"dataframe\">\n",
       "  <thead>\n",
       "    <tr style=\"text-align: right;\">\n",
       "      <th></th>\n",
       "      <th>Date</th>\n",
       "      <th>Open Price</th>\n",
       "      <th>High Price</th>\n",
       "      <th>Low Price</th>\n",
       "      <th>Close Price</th>\n",
       "      <th>WAP</th>\n",
       "      <th>No.of Shares</th>\n",
       "      <th>No. of Trades</th>\n",
       "      <th>Total Turnover (Rs.)</th>\n",
       "      <th>Deliverable Quantity</th>\n",
       "      <th>% Deli. Qty to Traded Qty</th>\n",
       "      <th>Spread High-Low</th>\n",
       "      <th>Spread Close-Open</th>\n",
       "      <th>gain</th>\n",
       "      <th>gain%</th>\n",
       "    </tr>\n",
       "  </thead>\n",
       "  <tbody>\n",
       "    <tr>\n",
       "      <th>0</th>\n",
       "      <td>28-March-2018</td>\n",
       "      <td>1153.00</td>\n",
       "      <td>1153.00</td>\n",
       "      <td>1129.00</td>\n",
       "      <td>1134.40</td>\n",
       "      <td>1140.268382</td>\n",
       "      <td>95733</td>\n",
       "      <td>2623</td>\n",
       "      <td>109161313.0</td>\n",
       "      <td>25845.0</td>\n",
       "      <td>27.00</td>\n",
       "      <td>24.00</td>\n",
       "      <td>-18.60</td>\n",
       "      <td>-0.015961</td>\n",
       "      <td>-1.596114</td>\n",
       "    </tr>\n",
       "    <tr>\n",
       "      <th>1</th>\n",
       "      <td>27-March-2018</td>\n",
       "      <td>1145.00</td>\n",
       "      <td>1170.00</td>\n",
       "      <td>1145.00</td>\n",
       "      <td>1152.80</td>\n",
       "      <td>1155.020906</td>\n",
       "      <td>109970</td>\n",
       "      <td>2388</td>\n",
       "      <td>127017649.0</td>\n",
       "      <td>33813.0</td>\n",
       "      <td>30.75</td>\n",
       "      <td>25.00</td>\n",
       "      <td>7.80</td>\n",
       "      <td>-0.001299</td>\n",
       "      <td>-0.129949</td>\n",
       "    </tr>\n",
       "    <tr>\n",
       "      <th>2</th>\n",
       "      <td>26-March-2018</td>\n",
       "      <td>1167.00</td>\n",
       "      <td>1167.00</td>\n",
       "      <td>1143.90</td>\n",
       "      <td>1154.30</td>\n",
       "      <td>1152.398242</td>\n",
       "      <td>196300</td>\n",
       "      <td>5327</td>\n",
       "      <td>226215775.0</td>\n",
       "      <td>79831.0</td>\n",
       "      <td>40.67</td>\n",
       "      <td>23.10</td>\n",
       "      <td>-12.70</td>\n",
       "      <td>-0.011264</td>\n",
       "      <td>-1.126387</td>\n",
       "    </tr>\n",
       "    <tr>\n",
       "      <th>3</th>\n",
       "      <td>23-March-2018</td>\n",
       "      <td>1145.00</td>\n",
       "      <td>1173.70</td>\n",
       "      <td>1140.00</td>\n",
       "      <td>1167.45</td>\n",
       "      <td>1165.935984</td>\n",
       "      <td>341510</td>\n",
       "      <td>9329</td>\n",
       "      <td>398178798.0</td>\n",
       "      <td>175792.0</td>\n",
       "      <td>51.47</td>\n",
       "      <td>33.70</td>\n",
       "      <td>22.45</td>\n",
       "      <td>0.007465</td>\n",
       "      <td>0.746462</td>\n",
       "    </tr>\n",
       "    <tr>\n",
       "      <th>4</th>\n",
       "      <td>22-March-2018</td>\n",
       "      <td>1166.90</td>\n",
       "      <td>1176.05</td>\n",
       "      <td>1153.60</td>\n",
       "      <td>1158.80</td>\n",
       "      <td>1167.602344</td>\n",
       "      <td>251295</td>\n",
       "      <td>2933</td>\n",
       "      <td>293412631.0</td>\n",
       "      <td>175841.0</td>\n",
       "      <td>69.97</td>\n",
       "      <td>22.45</td>\n",
       "      <td>-8.10</td>\n",
       "      <td>-0.008386</td>\n",
       "      <td>-0.838610</td>\n",
       "    </tr>\n",
       "    <tr>\n",
       "      <th>5</th>\n",
       "      <td>21-March-2018</td>\n",
       "      <td>1163.10</td>\n",
       "      <td>1176.60</td>\n",
       "      <td>1163.10</td>\n",
       "      <td>1168.60</td>\n",
       "      <td>1172.218381</td>\n",
       "      <td>88405</td>\n",
       "      <td>2275</td>\n",
       "      <td>103629966.0</td>\n",
       "      <td>32881.0</td>\n",
       "      <td>37.19</td>\n",
       "      <td>13.50</td>\n",
       "      <td>5.50</td>\n",
       "      <td>0.005593</td>\n",
       "      <td>0.559332</td>\n",
       "    </tr>\n",
       "    <tr>\n",
       "      <th>6</th>\n",
       "      <td>20-March-2018</td>\n",
       "      <td>1147.15</td>\n",
       "      <td>1170.00</td>\n",
       "      <td>1147.15</td>\n",
       "      <td>1162.10</td>\n",
       "      <td>1158.063540</td>\n",
       "      <td>692539</td>\n",
       "      <td>7440</td>\n",
       "      <td>802004166.0</td>\n",
       "      <td>421000.0</td>\n",
       "      <td>60.79</td>\n",
       "      <td>22.85</td>\n",
       "      <td>14.95</td>\n",
       "      <td>0.013032</td>\n",
       "      <td>1.303230</td>\n",
       "    </tr>\n",
       "    <tr>\n",
       "      <th>7</th>\n",
       "      <td>19-March-2018</td>\n",
       "      <td>1164.70</td>\n",
       "      <td>1180.00</td>\n",
       "      <td>1143.80</td>\n",
       "      <td>1147.15</td>\n",
       "      <td>1162.400582</td>\n",
       "      <td>277264</td>\n",
       "      <td>3313</td>\n",
       "      <td>322291835.0</td>\n",
       "      <td>194987.0</td>\n",
       "      <td>70.33</td>\n",
       "      <td>36.20</td>\n",
       "      <td>-17.55</td>\n",
       "      <td>-0.021620</td>\n",
       "      <td>-2.162047</td>\n",
       "    </tr>\n",
       "    <tr>\n",
       "      <th>8</th>\n",
       "      <td>16-March-2018</td>\n",
       "      <td>1184.80</td>\n",
       "      <td>1185.00</td>\n",
       "      <td>1169.00</td>\n",
       "      <td>1172.50</td>\n",
       "      <td>1174.954499</td>\n",
       "      <td>55362</td>\n",
       "      <td>1670</td>\n",
       "      <td>65047831.0</td>\n",
       "      <td>12588.0</td>\n",
       "      <td>22.74</td>\n",
       "      <td>16.00</td>\n",
       "      <td>-12.30</td>\n",
       "      <td>-0.008163</td>\n",
       "      <td>-0.816309</td>\n",
       "    </tr>\n",
       "    <tr>\n",
       "      <th>9</th>\n",
       "      <td>15-March-2018</td>\n",
       "      <td>1180.00</td>\n",
       "      <td>1187.90</td>\n",
       "      <td>1172.25</td>\n",
       "      <td>1182.15</td>\n",
       "      <td>1176.794276</td>\n",
       "      <td>459416</td>\n",
       "      <td>2521</td>\n",
       "      <td>540638119.0</td>\n",
       "      <td>34397.0</td>\n",
       "      <td>7.49</td>\n",
       "      <td>15.65</td>\n",
       "      <td>2.15</td>\n",
       "      <td>0.001652</td>\n",
       "      <td>0.165226</td>\n",
       "    </tr>\n",
       "  </tbody>\n",
       "</table>\n",
       "</div>"
      ],
      "text/plain": [
       "            Date  Open Price  High Price  Low Price  Close Price          WAP  \\\n",
       "0  28-March-2018     1153.00     1153.00    1129.00      1134.40  1140.268382   \n",
       "1  27-March-2018     1145.00     1170.00    1145.00      1152.80  1155.020906   \n",
       "2  26-March-2018     1167.00     1167.00    1143.90      1154.30  1152.398242   \n",
       "3  23-March-2018     1145.00     1173.70    1140.00      1167.45  1165.935984   \n",
       "4  22-March-2018     1166.90     1176.05    1153.60      1158.80  1167.602344   \n",
       "5  21-March-2018     1163.10     1176.60    1163.10      1168.60  1172.218381   \n",
       "6  20-March-2018     1147.15     1170.00    1147.15      1162.10  1158.063540   \n",
       "7  19-March-2018     1164.70     1180.00    1143.80      1147.15  1162.400582   \n",
       "8  16-March-2018     1184.80     1185.00    1169.00      1172.50  1174.954499   \n",
       "9  15-March-2018     1180.00     1187.90    1172.25      1182.15  1176.794276   \n",
       "\n",
       "   No.of Shares  No. of Trades  Total Turnover (Rs.)  Deliverable Quantity  \\\n",
       "0         95733           2623           109161313.0               25845.0   \n",
       "1        109970           2388           127017649.0               33813.0   \n",
       "2        196300           5327           226215775.0               79831.0   \n",
       "3        341510           9329           398178798.0              175792.0   \n",
       "4        251295           2933           293412631.0              175841.0   \n",
       "5         88405           2275           103629966.0               32881.0   \n",
       "6        692539           7440           802004166.0              421000.0   \n",
       "7        277264           3313           322291835.0              194987.0   \n",
       "8         55362           1670            65047831.0               12588.0   \n",
       "9        459416           2521           540638119.0               34397.0   \n",
       "\n",
       "   % Deli. Qty to Traded Qty  Spread High-Low  Spread Close-Open      gain  \\\n",
       "0                      27.00            24.00             -18.60 -0.015961   \n",
       "1                      30.75            25.00               7.80 -0.001299   \n",
       "2                      40.67            23.10             -12.70 -0.011264   \n",
       "3                      51.47            33.70              22.45  0.007465   \n",
       "4                      69.97            22.45              -8.10 -0.008386   \n",
       "5                      37.19            13.50               5.50  0.005593   \n",
       "6                      60.79            22.85              14.95  0.013032   \n",
       "7                      70.33            36.20             -17.55 -0.021620   \n",
       "8                      22.74            16.00             -12.30 -0.008163   \n",
       "9                       7.49            15.65               2.15  0.001652   \n",
       "\n",
       "      gain%  \n",
       "0 -1.596114  \n",
       "1 -0.129949  \n",
       "2 -1.126387  \n",
       "3  0.746462  \n",
       "4 -0.838610  \n",
       "5  0.559332  \n",
       "6  1.303230  \n",
       "7 -2.162047  \n",
       "8 -0.816309  \n",
       "9  0.165226  "
      ]
     },
     "execution_count": 14,
     "metadata": {},
     "output_type": "execute_result"
    }
   ],
   "source": [
    "infosys_df.head(10)"
   ]
  },
  {
   "cell_type": "code",
   "execution_count": 15,
   "metadata": {},
   "outputs": [
    {
     "data": {
      "text/html": [
       "<div>\n",
       "<style>\n",
       "    .dataframe thead tr:only-child th {\n",
       "        text-align: right;\n",
       "    }\n",
       "\n",
       "    .dataframe thead th {\n",
       "        text-align: left;\n",
       "    }\n",
       "\n",
       "    .dataframe tbody tr th {\n",
       "        vertical-align: top;\n",
       "    }\n",
       "</style>\n",
       "<table border=\"1\" class=\"dataframe\">\n",
       "  <thead>\n",
       "    <tr style=\"text-align: right;\">\n",
       "      <th></th>\n",
       "      <th>Date</th>\n",
       "      <th>Open Price</th>\n",
       "      <th>High Price</th>\n",
       "      <th>Low Price</th>\n",
       "      <th>Close Price</th>\n",
       "      <th>WAP</th>\n",
       "      <th>No.of Shares</th>\n",
       "      <th>No. of Trades</th>\n",
       "      <th>Total Turnover (Rs.)</th>\n",
       "      <th>Deliverable Quantity</th>\n",
       "      <th>% Deli. Qty to Traded Qty</th>\n",
       "      <th>Spread High-Low</th>\n",
       "      <th>Spread Close-Open</th>\n",
       "      <th>gain</th>\n",
       "      <th>gain%</th>\n",
       "    </tr>\n",
       "  </thead>\n",
       "  <tbody>\n",
       "    <tr>\n",
       "      <th>974</th>\n",
       "      <td>16-April-2014</td>\n",
       "      <td>3257.00</td>\n",
       "      <td>3257.00</td>\n",
       "      <td>3150.00</td>\n",
       "      <td>3156.40</td>\n",
       "      <td>3178.145277</td>\n",
       "      <td>117954</td>\n",
       "      <td>23190</td>\n",
       "      <td>3.748749e+08</td>\n",
       "      <td>40998.0</td>\n",
       "      <td>34.76</td>\n",
       "      <td>107.00</td>\n",
       "      <td>-100.60</td>\n",
       "      <td>-0.031913</td>\n",
       "      <td>-3.191277</td>\n",
       "    </tr>\n",
       "    <tr>\n",
       "      <th>975</th>\n",
       "      <td>15-April-2014</td>\n",
       "      <td>3347.00</td>\n",
       "      <td>3371.80</td>\n",
       "      <td>3245.35</td>\n",
       "      <td>3260.45</td>\n",
       "      <td>3286.914963</td>\n",
       "      <td>503407</td>\n",
       "      <td>33645</td>\n",
       "      <td>1.654656e+09</td>\n",
       "      <td>314118.0</td>\n",
       "      <td>62.40</td>\n",
       "      <td>126.45</td>\n",
       "      <td>-86.55</td>\n",
       "      <td>0.007602</td>\n",
       "      <td>0.760233</td>\n",
       "    </tr>\n",
       "    <tr>\n",
       "      <th>976</th>\n",
       "      <td>11-April-2014</td>\n",
       "      <td>3190.25</td>\n",
       "      <td>3256.00</td>\n",
       "      <td>3165.00</td>\n",
       "      <td>3235.85</td>\n",
       "      <td>3207.104598</td>\n",
       "      <td>105996</td>\n",
       "      <td>18036</td>\n",
       "      <td>3.399403e+08</td>\n",
       "      <td>32450.0</td>\n",
       "      <td>30.61</td>\n",
       "      <td>91.00</td>\n",
       "      <td>45.60</td>\n",
       "      <td>0.009122</td>\n",
       "      <td>0.912181</td>\n",
       "    </tr>\n",
       "    <tr>\n",
       "      <th>977</th>\n",
       "      <td>10-April-2014</td>\n",
       "      <td>3264.00</td>\n",
       "      <td>3264.00</td>\n",
       "      <td>3186.60</td>\n",
       "      <td>3206.60</td>\n",
       "      <td>3223.326611</td>\n",
       "      <td>53054</td>\n",
       "      <td>8270</td>\n",
       "      <td>1.710104e+08</td>\n",
       "      <td>20837.0</td>\n",
       "      <td>39.28</td>\n",
       "      <td>77.40</td>\n",
       "      <td>-57.40</td>\n",
       "      <td>-0.014294</td>\n",
       "      <td>-1.429406</td>\n",
       "    </tr>\n",
       "    <tr>\n",
       "      <th>978</th>\n",
       "      <td>9-April-2014</td>\n",
       "      <td>3300.00</td>\n",
       "      <td>3300.00</td>\n",
       "      <td>3231.00</td>\n",
       "      <td>3253.10</td>\n",
       "      <td>3245.204161</td>\n",
       "      <td>98726</td>\n",
       "      <td>11672</td>\n",
       "      <td>3.203860e+08</td>\n",
       "      <td>74347.0</td>\n",
       "      <td>37.65</td>\n",
       "      <td>69.00</td>\n",
       "      <td>-46.90</td>\n",
       "      <td>-0.011591</td>\n",
       "      <td>-1.159134</td>\n",
       "    </tr>\n",
       "    <tr>\n",
       "      <th>979</th>\n",
       "      <td>7-April-2014</td>\n",
       "      <td>3310.00</td>\n",
       "      <td>3320.00</td>\n",
       "      <td>3196.00</td>\n",
       "      <td>3291.25</td>\n",
       "      <td>3281.517405</td>\n",
       "      <td>23585</td>\n",
       "      <td>3563</td>\n",
       "      <td>7.739459e+07</td>\n",
       "      <td>6748.0</td>\n",
       "      <td>14.31</td>\n",
       "      <td>124.00</td>\n",
       "      <td>-18.75</td>\n",
       "      <td>-0.007314</td>\n",
       "      <td>-0.731413</td>\n",
       "    </tr>\n",
       "    <tr>\n",
       "      <th>980</th>\n",
       "      <td>4-April-2014</td>\n",
       "      <td>3343.00</td>\n",
       "      <td>3354.75</td>\n",
       "      <td>3303.00</td>\n",
       "      <td>3315.50</td>\n",
       "      <td>3329.121666</td>\n",
       "      <td>29359</td>\n",
       "      <td>2782</td>\n",
       "      <td>9.773968e+07</td>\n",
       "      <td>11158.0</td>\n",
       "      <td>38.01</td>\n",
       "      <td>51.75</td>\n",
       "      <td>-27.50</td>\n",
       "      <td>-0.006919</td>\n",
       "      <td>-0.691907</td>\n",
       "    </tr>\n",
       "    <tr>\n",
       "      <th>981</th>\n",
       "      <td>3-April-2014</td>\n",
       "      <td>3332.00</td>\n",
       "      <td>3345.00</td>\n",
       "      <td>3320.00</td>\n",
       "      <td>3338.60</td>\n",
       "      <td>3333.746573</td>\n",
       "      <td>26919</td>\n",
       "      <td>4187</td>\n",
       "      <td>8.974112e+07</td>\n",
       "      <td>8979.0</td>\n",
       "      <td>33.36</td>\n",
       "      <td>25.00</td>\n",
       "      <td>6.60</td>\n",
       "      <td>0.005542</td>\n",
       "      <td>0.554183</td>\n",
       "    </tr>\n",
       "    <tr>\n",
       "      <th>982</th>\n",
       "      <td>2-April-2014</td>\n",
       "      <td>3344.00</td>\n",
       "      <td>3348.55</td>\n",
       "      <td>3300.00</td>\n",
       "      <td>3320.20</td>\n",
       "      <td>3331.884074</td>\n",
       "      <td>36256</td>\n",
       "      <td>4034</td>\n",
       "      <td>1.208008e+08</td>\n",
       "      <td>13270.0</td>\n",
       "      <td>36.60</td>\n",
       "      <td>48.55</td>\n",
       "      <td>-23.80</td>\n",
       "      <td>0.002900</td>\n",
       "      <td>0.289978</td>\n",
       "    </tr>\n",
       "    <tr>\n",
       "      <th>983</th>\n",
       "      <td>1-April-2014</td>\n",
       "      <td>3285.00</td>\n",
       "      <td>3322.85</td>\n",
       "      <td>3279.10</td>\n",
       "      <td>3310.60</td>\n",
       "      <td>3308.068970</td>\n",
       "      <td>42830</td>\n",
       "      <td>4542</td>\n",
       "      <td>1.416846e+08</td>\n",
       "      <td>11644.0</td>\n",
       "      <td>27.19</td>\n",
       "      <td>43.75</td>\n",
       "      <td>25.60</td>\n",
       "      <td>0.000000</td>\n",
       "      <td>0.000000</td>\n",
       "    </tr>\n",
       "  </tbody>\n",
       "</table>\n",
       "</div>"
      ],
      "text/plain": [
       "              Date  Open Price  High Price  Low Price  Close Price  \\\n",
       "974  16-April-2014     3257.00     3257.00    3150.00      3156.40   \n",
       "975  15-April-2014     3347.00     3371.80    3245.35      3260.45   \n",
       "976  11-April-2014     3190.25     3256.00    3165.00      3235.85   \n",
       "977  10-April-2014     3264.00     3264.00    3186.60      3206.60   \n",
       "978   9-April-2014     3300.00     3300.00    3231.00      3253.10   \n",
       "979   7-April-2014     3310.00     3320.00    3196.00      3291.25   \n",
       "980   4-April-2014     3343.00     3354.75    3303.00      3315.50   \n",
       "981   3-April-2014     3332.00     3345.00    3320.00      3338.60   \n",
       "982   2-April-2014     3344.00     3348.55    3300.00      3320.20   \n",
       "983   1-April-2014     3285.00     3322.85    3279.10      3310.60   \n",
       "\n",
       "             WAP  No.of Shares  No. of Trades  Total Turnover (Rs.)  \\\n",
       "974  3178.145277        117954          23190          3.748749e+08   \n",
       "975  3286.914963        503407          33645          1.654656e+09   \n",
       "976  3207.104598        105996          18036          3.399403e+08   \n",
       "977  3223.326611         53054           8270          1.710104e+08   \n",
       "978  3245.204161         98726          11672          3.203860e+08   \n",
       "979  3281.517405         23585           3563          7.739459e+07   \n",
       "980  3329.121666         29359           2782          9.773968e+07   \n",
       "981  3333.746573         26919           4187          8.974112e+07   \n",
       "982  3331.884074         36256           4034          1.208008e+08   \n",
       "983  3308.068970         42830           4542          1.416846e+08   \n",
       "\n",
       "     Deliverable Quantity  % Deli. Qty to Traded Qty  Spread High-Low  \\\n",
       "974               40998.0                      34.76           107.00   \n",
       "975              314118.0                      62.40           126.45   \n",
       "976               32450.0                      30.61            91.00   \n",
       "977               20837.0                      39.28            77.40   \n",
       "978               74347.0                      37.65            69.00   \n",
       "979                6748.0                      14.31           124.00   \n",
       "980               11158.0                      38.01            51.75   \n",
       "981                8979.0                      33.36            25.00   \n",
       "982               13270.0                      36.60            48.55   \n",
       "983               11644.0                      27.19            43.75   \n",
       "\n",
       "     Spread Close-Open      gain     gain%  \n",
       "974            -100.60 -0.031913 -3.191277  \n",
       "975             -86.55  0.007602  0.760233  \n",
       "976              45.60  0.009122  0.912181  \n",
       "977             -57.40 -0.014294 -1.429406  \n",
       "978             -46.90 -0.011591 -1.159134  \n",
       "979             -18.75 -0.007314 -0.731413  \n",
       "980             -27.50 -0.006919 -0.691907  \n",
       "981               6.60  0.005542  0.554183  \n",
       "982             -23.80  0.002900  0.289978  \n",
       "983              25.60  0.000000  0.000000  "
      ]
     },
     "execution_count": 15,
     "metadata": {},
     "output_type": "execute_result"
    }
   ],
   "source": [
    "infosys_df.tail(10)"
   ]
  },
  {
   "cell_type": "code",
   "execution_count": 16,
   "metadata": {
    "collapsed": true
   },
   "outputs": [],
   "source": [
    "# gain of icici \n",
    "icici_df['gain'] = (icici_df['Close Price'].pct_change(-1).fillna(0))"
   ]
  },
  {
   "cell_type": "code",
   "execution_count": 17,
   "metadata": {
    "collapsed": true
   },
   "outputs": [],
   "source": [
    "# Percentage gain of infosys \n",
    "icici_df['gain%'] = (icici_df['Close Price'].pct_change(-1).fillna(0))*100"
   ]
  },
  {
   "cell_type": "code",
   "execution_count": 18,
   "metadata": {},
   "outputs": [
    {
     "data": {
      "text/html": [
       "<div>\n",
       "<style>\n",
       "    .dataframe thead tr:only-child th {\n",
       "        text-align: right;\n",
       "    }\n",
       "\n",
       "    .dataframe thead th {\n",
       "        text-align: left;\n",
       "    }\n",
       "\n",
       "    .dataframe tbody tr th {\n",
       "        vertical-align: top;\n",
       "    }\n",
       "</style>\n",
       "<table border=\"1\" class=\"dataframe\">\n",
       "  <thead>\n",
       "    <tr style=\"text-align: right;\">\n",
       "      <th></th>\n",
       "      <th>Date</th>\n",
       "      <th>Open Price</th>\n",
       "      <th>High Price</th>\n",
       "      <th>Low Price</th>\n",
       "      <th>Close Price</th>\n",
       "      <th>WAP</th>\n",
       "      <th>No.of Shares</th>\n",
       "      <th>No. of Trades</th>\n",
       "      <th>Total Turnover (Rs.)</th>\n",
       "      <th>Deliverable Quantity</th>\n",
       "      <th>% Deli. Qty to Traded Qty</th>\n",
       "      <th>Spread High-Low</th>\n",
       "      <th>Spread Close-Open</th>\n",
       "      <th>gain</th>\n",
       "      <th>gain%</th>\n",
       "    </tr>\n",
       "  </thead>\n",
       "  <tbody>\n",
       "    <tr>\n",
       "      <th>0</th>\n",
       "      <td>28-March-2018</td>\n",
       "      <td>283.00</td>\n",
       "      <td>283.00</td>\n",
       "      <td>277.40</td>\n",
       "      <td>278.40</td>\n",
       "      <td>279.594366</td>\n",
       "      <td>485906</td>\n",
       "      <td>3614</td>\n",
       "      <td>135856580.0</td>\n",
       "      <td>123549.0</td>\n",
       "      <td>25.43</td>\n",
       "      <td>5.60</td>\n",
       "      <td>-4.60</td>\n",
       "      <td>-0.019373</td>\n",
       "      <td>-1.937302</td>\n",
       "    </tr>\n",
       "    <tr>\n",
       "      <th>1</th>\n",
       "      <td>27-March-2018</td>\n",
       "      <td>283.00</td>\n",
       "      <td>287.80</td>\n",
       "      <td>281.30</td>\n",
       "      <td>283.90</td>\n",
       "      <td>285.701011</td>\n",
       "      <td>1999278</td>\n",
       "      <td>8216</td>\n",
       "      <td>571195745.0</td>\n",
       "      <td>1187265.0</td>\n",
       "      <td>59.38</td>\n",
       "      <td>6.50</td>\n",
       "      <td>0.90</td>\n",
       "      <td>0.008705</td>\n",
       "      <td>0.870492</td>\n",
       "    </tr>\n",
       "    <tr>\n",
       "      <th>2</th>\n",
       "      <td>26-March-2018</td>\n",
       "      <td>275.55</td>\n",
       "      <td>282.80</td>\n",
       "      <td>275.55</td>\n",
       "      <td>281.45</td>\n",
       "      <td>278.836381</td>\n",
       "      <td>2856987</td>\n",
       "      <td>9265</td>\n",
       "      <td>796631916.0</td>\n",
       "      <td>1989932.0</td>\n",
       "      <td>69.65</td>\n",
       "      <td>7.25</td>\n",
       "      <td>5.90</td>\n",
       "      <td>0.020486</td>\n",
       "      <td>2.048586</td>\n",
       "    </tr>\n",
       "    <tr>\n",
       "      <th>3</th>\n",
       "      <td>23-March-2018</td>\n",
       "      <td>277.00</td>\n",
       "      <td>277.85</td>\n",
       "      <td>273.65</td>\n",
       "      <td>275.80</td>\n",
       "      <td>275.764629</td>\n",
       "      <td>1348434</td>\n",
       "      <td>7409</td>\n",
       "      <td>371850402.0</td>\n",
       "      <td>489721.0</td>\n",
       "      <td>36.32</td>\n",
       "      <td>4.20</td>\n",
       "      <td>-1.20</td>\n",
       "      <td>-0.027332</td>\n",
       "      <td>-2.733204</td>\n",
       "    </tr>\n",
       "    <tr>\n",
       "      <th>4</th>\n",
       "      <td>22-March-2018</td>\n",
       "      <td>289.60</td>\n",
       "      <td>289.70</td>\n",
       "      <td>281.15</td>\n",
       "      <td>283.55</td>\n",
       "      <td>284.025401</td>\n",
       "      <td>1184139</td>\n",
       "      <td>5928</td>\n",
       "      <td>336325554.0</td>\n",
       "      <td>481989.0</td>\n",
       "      <td>40.70</td>\n",
       "      <td>8.55</td>\n",
       "      <td>-6.05</td>\n",
       "      <td>-0.020891</td>\n",
       "      <td>-2.089088</td>\n",
       "    </tr>\n",
       "    <tr>\n",
       "      <th>5</th>\n",
       "      <td>21-March-2018</td>\n",
       "      <td>294.55</td>\n",
       "      <td>296.50</td>\n",
       "      <td>287.50</td>\n",
       "      <td>289.60</td>\n",
       "      <td>290.857054</td>\n",
       "      <td>2153080</td>\n",
       "      <td>4975</td>\n",
       "      <td>626238506.0</td>\n",
       "      <td>1812882.0</td>\n",
       "      <td>84.20</td>\n",
       "      <td>9.00</td>\n",
       "      <td>-4.95</td>\n",
       "      <td>-0.007369</td>\n",
       "      <td>-0.736932</td>\n",
       "    </tr>\n",
       "    <tr>\n",
       "      <th>6</th>\n",
       "      <td>20-March-2018</td>\n",
       "      <td>292.55</td>\n",
       "      <td>297.00</td>\n",
       "      <td>290.35</td>\n",
       "      <td>291.75</td>\n",
       "      <td>292.812232</td>\n",
       "      <td>3346354</td>\n",
       "      <td>4131</td>\n",
       "      <td>979853383.0</td>\n",
       "      <td>2798867.0</td>\n",
       "      <td>83.64</td>\n",
       "      <td>6.65</td>\n",
       "      <td>-0.80</td>\n",
       "      <td>-0.011017</td>\n",
       "      <td>-1.101695</td>\n",
       "    </tr>\n",
       "    <tr>\n",
       "      <th>7</th>\n",
       "      <td>19-March-2018</td>\n",
       "      <td>298.10</td>\n",
       "      <td>299.95</td>\n",
       "      <td>291.30</td>\n",
       "      <td>295.00</td>\n",
       "      <td>295.001752</td>\n",
       "      <td>986702</td>\n",
       "      <td>8598</td>\n",
       "      <td>291078819.0</td>\n",
       "      <td>405047.0</td>\n",
       "      <td>41.05</td>\n",
       "      <td>8.65</td>\n",
       "      <td>-3.10</td>\n",
       "      <td>-0.010399</td>\n",
       "      <td>-1.039919</td>\n",
       "    </tr>\n",
       "    <tr>\n",
       "      <th>8</th>\n",
       "      <td>16-March-2018</td>\n",
       "      <td>302.80</td>\n",
       "      <td>302.80</td>\n",
       "      <td>297.40</td>\n",
       "      <td>298.10</td>\n",
       "      <td>299.583884</td>\n",
       "      <td>808232</td>\n",
       "      <td>4674</td>\n",
       "      <td>242133282.0</td>\n",
       "      <td>226069.0</td>\n",
       "      <td>27.97</td>\n",
       "      <td>5.40</td>\n",
       "      <td>-4.70</td>\n",
       "      <td>-0.011113</td>\n",
       "      <td>-1.111295</td>\n",
       "    </tr>\n",
       "    <tr>\n",
       "      <th>9</th>\n",
       "      <td>15-March-2018</td>\n",
       "      <td>306.90</td>\n",
       "      <td>306.90</td>\n",
       "      <td>300.65</td>\n",
       "      <td>301.45</td>\n",
       "      <td>302.878584</td>\n",
       "      <td>945969</td>\n",
       "      <td>6372</td>\n",
       "      <td>286513751.0</td>\n",
       "      <td>503207.0</td>\n",
       "      <td>53.19</td>\n",
       "      <td>6.25</td>\n",
       "      <td>-5.45</td>\n",
       "      <td>-0.015995</td>\n",
       "      <td>-1.599478</td>\n",
       "    </tr>\n",
       "  </tbody>\n",
       "</table>\n",
       "</div>"
      ],
      "text/plain": [
       "            Date  Open Price  High Price  Low Price  Close Price         WAP  \\\n",
       "0  28-March-2018      283.00      283.00     277.40       278.40  279.594366   \n",
       "1  27-March-2018      283.00      287.80     281.30       283.90  285.701011   \n",
       "2  26-March-2018      275.55      282.80     275.55       281.45  278.836381   \n",
       "3  23-March-2018      277.00      277.85     273.65       275.80  275.764629   \n",
       "4  22-March-2018      289.60      289.70     281.15       283.55  284.025401   \n",
       "5  21-March-2018      294.55      296.50     287.50       289.60  290.857054   \n",
       "6  20-March-2018      292.55      297.00     290.35       291.75  292.812232   \n",
       "7  19-March-2018      298.10      299.95     291.30       295.00  295.001752   \n",
       "8  16-March-2018      302.80      302.80     297.40       298.10  299.583884   \n",
       "9  15-March-2018      306.90      306.90     300.65       301.45  302.878584   \n",
       "\n",
       "   No.of Shares  No. of Trades  Total Turnover (Rs.)  Deliverable Quantity  \\\n",
       "0        485906           3614           135856580.0              123549.0   \n",
       "1       1999278           8216           571195745.0             1187265.0   \n",
       "2       2856987           9265           796631916.0             1989932.0   \n",
       "3       1348434           7409           371850402.0              489721.0   \n",
       "4       1184139           5928           336325554.0              481989.0   \n",
       "5       2153080           4975           626238506.0             1812882.0   \n",
       "6       3346354           4131           979853383.0             2798867.0   \n",
       "7        986702           8598           291078819.0              405047.0   \n",
       "8        808232           4674           242133282.0              226069.0   \n",
       "9        945969           6372           286513751.0              503207.0   \n",
       "\n",
       "   % Deli. Qty to Traded Qty  Spread High-Low  Spread Close-Open      gain  \\\n",
       "0                      25.43             5.60              -4.60 -0.019373   \n",
       "1                      59.38             6.50               0.90  0.008705   \n",
       "2                      69.65             7.25               5.90  0.020486   \n",
       "3                      36.32             4.20              -1.20 -0.027332   \n",
       "4                      40.70             8.55              -6.05 -0.020891   \n",
       "5                      84.20             9.00              -4.95 -0.007369   \n",
       "6                      83.64             6.65              -0.80 -0.011017   \n",
       "7                      41.05             8.65              -3.10 -0.010399   \n",
       "8                      27.97             5.40              -4.70 -0.011113   \n",
       "9                      53.19             6.25              -5.45 -0.015995   \n",
       "\n",
       "      gain%  \n",
       "0 -1.937302  \n",
       "1  0.870492  \n",
       "2  2.048586  \n",
       "3 -2.733204  \n",
       "4 -2.089088  \n",
       "5 -0.736932  \n",
       "6 -1.101695  \n",
       "7 -1.039919  \n",
       "8 -1.111295  \n",
       "9 -1.599478  "
      ]
     },
     "execution_count": 18,
     "metadata": {},
     "output_type": "execute_result"
    }
   ],
   "source": [
    "icici_df.head(10)"
   ]
  },
  {
   "cell_type": "code",
   "execution_count": 19,
   "metadata": {},
   "outputs": [
    {
     "data": {
      "text/html": [
       "<div>\n",
       "<style>\n",
       "    .dataframe thead tr:only-child th {\n",
       "        text-align: right;\n",
       "    }\n",
       "\n",
       "    .dataframe thead th {\n",
       "        text-align: left;\n",
       "    }\n",
       "\n",
       "    .dataframe tbody tr th {\n",
       "        vertical-align: top;\n",
       "    }\n",
       "</style>\n",
       "<table border=\"1\" class=\"dataframe\">\n",
       "  <thead>\n",
       "    <tr style=\"text-align: right;\">\n",
       "      <th></th>\n",
       "      <th>Date</th>\n",
       "      <th>Open Price</th>\n",
       "      <th>High Price</th>\n",
       "      <th>Low Price</th>\n",
       "      <th>Close Price</th>\n",
       "      <th>WAP</th>\n",
       "      <th>No.of Shares</th>\n",
       "      <th>No. of Trades</th>\n",
       "      <th>Total Turnover (Rs.)</th>\n",
       "      <th>Deliverable Quantity</th>\n",
       "      <th>% Deli. Qty to Traded Qty</th>\n",
       "      <th>Spread High-Low</th>\n",
       "      <th>Spread Close-Open</th>\n",
       "      <th>gain</th>\n",
       "      <th>gain%</th>\n",
       "    </tr>\n",
       "  </thead>\n",
       "  <tbody>\n",
       "    <tr>\n",
       "      <th>974</th>\n",
       "      <td>16-April-2014</td>\n",
       "      <td>1216.70</td>\n",
       "      <td>1236.95</td>\n",
       "      <td>1215.00</td>\n",
       "      <td>1222.30</td>\n",
       "      <td>1226.168747</td>\n",
       "      <td>149520</td>\n",
       "      <td>9388</td>\n",
       "      <td>183336751.0</td>\n",
       "      <td>54860.0</td>\n",
       "      <td>36.69</td>\n",
       "      <td>21.95</td>\n",
       "      <td>5.60</td>\n",
       "      <td>0.003489</td>\n",
       "      <td>0.348918</td>\n",
       "    </tr>\n",
       "    <tr>\n",
       "      <th>975</th>\n",
       "      <td>15-April-2014</td>\n",
       "      <td>1236.35</td>\n",
       "      <td>1240.60</td>\n",
       "      <td>1214.40</td>\n",
       "      <td>1218.05</td>\n",
       "      <td>1226.714650</td>\n",
       "      <td>93373</td>\n",
       "      <td>7528</td>\n",
       "      <td>114542027.0</td>\n",
       "      <td>30573.0</td>\n",
       "      <td>32.74</td>\n",
       "      <td>26.20</td>\n",
       "      <td>-18.30</td>\n",
       "      <td>-0.014124</td>\n",
       "      <td>-1.412384</td>\n",
       "    </tr>\n",
       "    <tr>\n",
       "      <th>976</th>\n",
       "      <td>11-April-2014</td>\n",
       "      <td>1238.00</td>\n",
       "      <td>1241.10</td>\n",
       "      <td>1227.05</td>\n",
       "      <td>1235.50</td>\n",
       "      <td>1233.178021</td>\n",
       "      <td>222041</td>\n",
       "      <td>12012</td>\n",
       "      <td>273816081.0</td>\n",
       "      <td>119560.0</td>\n",
       "      <td>53.85</td>\n",
       "      <td>14.05</td>\n",
       "      <td>-2.50</td>\n",
       "      <td>-0.008546</td>\n",
       "      <td>-0.854632</td>\n",
       "    </tr>\n",
       "    <tr>\n",
       "      <th>977</th>\n",
       "      <td>10-April-2014</td>\n",
       "      <td>1251.00</td>\n",
       "      <td>1268.95</td>\n",
       "      <td>1239.30</td>\n",
       "      <td>1246.15</td>\n",
       "      <td>1255.704606</td>\n",
       "      <td>212855</td>\n",
       "      <td>12089</td>\n",
       "      <td>267283004.0</td>\n",
       "      <td>61547.0</td>\n",
       "      <td>28.91</td>\n",
       "      <td>29.65</td>\n",
       "      <td>-4.85</td>\n",
       "      <td>-0.010639</td>\n",
       "      <td>-1.063872</td>\n",
       "    </tr>\n",
       "    <tr>\n",
       "      <th>978</th>\n",
       "      <td>9-April-2014</td>\n",
       "      <td>1210.00</td>\n",
       "      <td>1262.35</td>\n",
       "      <td>1210.00</td>\n",
       "      <td>1259.55</td>\n",
       "      <td>1235.678788</td>\n",
       "      <td>192767</td>\n",
       "      <td>10912</td>\n",
       "      <td>238198093.0</td>\n",
       "      <td>66856.0</td>\n",
       "      <td>17.34</td>\n",
       "      <td>52.35</td>\n",
       "      <td>49.55</td>\n",
       "      <td>0.041768</td>\n",
       "      <td>4.176833</td>\n",
       "    </tr>\n",
       "    <tr>\n",
       "      <th>979</th>\n",
       "      <td>7-April-2014</td>\n",
       "      <td>1225.00</td>\n",
       "      <td>1269.00</td>\n",
       "      <td>1192.00</td>\n",
       "      <td>1209.05</td>\n",
       "      <td>1209.430070</td>\n",
       "      <td>95410</td>\n",
       "      <td>5416</td>\n",
       "      <td>115391723.0</td>\n",
       "      <td>38121.0</td>\n",
       "      <td>19.98</td>\n",
       "      <td>77.00</td>\n",
       "      <td>-15.95</td>\n",
       "      <td>-0.017312</td>\n",
       "      <td>-1.731215</td>\n",
       "    </tr>\n",
       "    <tr>\n",
       "      <th>980</th>\n",
       "      <td>4-April-2014</td>\n",
       "      <td>1232.00</td>\n",
       "      <td>1244.80</td>\n",
       "      <td>1215.75</td>\n",
       "      <td>1230.35</td>\n",
       "      <td>1230.289123</td>\n",
       "      <td>340419</td>\n",
       "      <td>7637</td>\n",
       "      <td>418813793.0</td>\n",
       "      <td>205114.0</td>\n",
       "      <td>60.25</td>\n",
       "      <td>29.05</td>\n",
       "      <td>-1.65</td>\n",
       "      <td>-0.003926</td>\n",
       "      <td>-0.392649</td>\n",
       "    </tr>\n",
       "    <tr>\n",
       "      <th>981</th>\n",
       "      <td>3-April-2014</td>\n",
       "      <td>1242.15</td>\n",
       "      <td>1243.05</td>\n",
       "      <td>1225.60</td>\n",
       "      <td>1235.20</td>\n",
       "      <td>1232.419795</td>\n",
       "      <td>450761</td>\n",
       "      <td>10821</td>\n",
       "      <td>555526779.0</td>\n",
       "      <td>324795.0</td>\n",
       "      <td>72.05</td>\n",
       "      <td>17.45</td>\n",
       "      <td>-6.95</td>\n",
       "      <td>-0.005915</td>\n",
       "      <td>-0.591525</td>\n",
       "    </tr>\n",
       "    <tr>\n",
       "      <th>982</th>\n",
       "      <td>2-April-2014</td>\n",
       "      <td>1231.00</td>\n",
       "      <td>1251.00</td>\n",
       "      <td>1231.00</td>\n",
       "      <td>1242.55</td>\n",
       "      <td>1243.562220</td>\n",
       "      <td>313121</td>\n",
       "      <td>7909</td>\n",
       "      <td>389385446.0</td>\n",
       "      <td>185593.0</td>\n",
       "      <td>59.27</td>\n",
       "      <td>20.00</td>\n",
       "      <td>11.55</td>\n",
       "      <td>0.015321</td>\n",
       "      <td>1.532113</td>\n",
       "    </tr>\n",
       "    <tr>\n",
       "      <th>983</th>\n",
       "      <td>1-April-2014</td>\n",
       "      <td>1245.00</td>\n",
       "      <td>1258.50</td>\n",
       "      <td>1219.10</td>\n",
       "      <td>1223.80</td>\n",
       "      <td>1234.079677</td>\n",
       "      <td>277105</td>\n",
       "      <td>12406</td>\n",
       "      <td>341969649.0</td>\n",
       "      <td>80919.0</td>\n",
       "      <td>29.20</td>\n",
       "      <td>39.40</td>\n",
       "      <td>-21.20</td>\n",
       "      <td>0.000000</td>\n",
       "      <td>0.000000</td>\n",
       "    </tr>\n",
       "  </tbody>\n",
       "</table>\n",
       "</div>"
      ],
      "text/plain": [
       "              Date  Open Price  High Price  Low Price  Close Price  \\\n",
       "974  16-April-2014     1216.70     1236.95    1215.00      1222.30   \n",
       "975  15-April-2014     1236.35     1240.60    1214.40      1218.05   \n",
       "976  11-April-2014     1238.00     1241.10    1227.05      1235.50   \n",
       "977  10-April-2014     1251.00     1268.95    1239.30      1246.15   \n",
       "978   9-April-2014     1210.00     1262.35    1210.00      1259.55   \n",
       "979   7-April-2014     1225.00     1269.00    1192.00      1209.05   \n",
       "980   4-April-2014     1232.00     1244.80    1215.75      1230.35   \n",
       "981   3-April-2014     1242.15     1243.05    1225.60      1235.20   \n",
       "982   2-April-2014     1231.00     1251.00    1231.00      1242.55   \n",
       "983   1-April-2014     1245.00     1258.50    1219.10      1223.80   \n",
       "\n",
       "             WAP  No.of Shares  No. of Trades  Total Turnover (Rs.)  \\\n",
       "974  1226.168747        149520           9388           183336751.0   \n",
       "975  1226.714650         93373           7528           114542027.0   \n",
       "976  1233.178021        222041          12012           273816081.0   \n",
       "977  1255.704606        212855          12089           267283004.0   \n",
       "978  1235.678788        192767          10912           238198093.0   \n",
       "979  1209.430070         95410           5416           115391723.0   \n",
       "980  1230.289123        340419           7637           418813793.0   \n",
       "981  1232.419795        450761          10821           555526779.0   \n",
       "982  1243.562220        313121           7909           389385446.0   \n",
       "983  1234.079677        277105          12406           341969649.0   \n",
       "\n",
       "     Deliverable Quantity  % Deli. Qty to Traded Qty  Spread High-Low  \\\n",
       "974               54860.0                      36.69            21.95   \n",
       "975               30573.0                      32.74            26.20   \n",
       "976              119560.0                      53.85            14.05   \n",
       "977               61547.0                      28.91            29.65   \n",
       "978               66856.0                      17.34            52.35   \n",
       "979               38121.0                      19.98            77.00   \n",
       "980              205114.0                      60.25            29.05   \n",
       "981              324795.0                      72.05            17.45   \n",
       "982              185593.0                      59.27            20.00   \n",
       "983               80919.0                      29.20            39.40   \n",
       "\n",
       "     Spread Close-Open      gain     gain%  \n",
       "974               5.60  0.003489  0.348918  \n",
       "975             -18.30 -0.014124 -1.412384  \n",
       "976              -2.50 -0.008546 -0.854632  \n",
       "977              -4.85 -0.010639 -1.063872  \n",
       "978              49.55  0.041768  4.176833  \n",
       "979             -15.95 -0.017312 -1.731215  \n",
       "980              -1.65 -0.003926 -0.392649  \n",
       "981              -6.95 -0.005915 -0.591525  \n",
       "982              11.55  0.015321  1.532113  \n",
       "983             -21.20  0.000000  0.000000  "
      ]
     },
     "execution_count": 19,
     "metadata": {},
     "output_type": "execute_result"
    }
   ],
   "source": [
    "icici_df.tail(10)"
   ]
  },
  {
   "cell_type": "code",
   "execution_count": 20,
   "metadata": {
    "collapsed": true
   },
   "outputs": [],
   "source": [
    "# gain of Air India \n",
    "AI_df['gain'] = (AI_df['Close Price'].pct_change(-1).fillna(0))"
   ]
  },
  {
   "cell_type": "code",
   "execution_count": 21,
   "metadata": {
    "collapsed": true
   },
   "outputs": [],
   "source": [
    "# Percentage gain of Air India  \n",
    "AI_df['gain%'] = (AI_df['Close Price'].pct_change(-1).fillna(0))*100"
   ]
  },
  {
   "cell_type": "code",
   "execution_count": 22,
   "metadata": {},
   "outputs": [
    {
     "data": {
      "text/html": [
       "<div>\n",
       "<style>\n",
       "    .dataframe thead tr:only-child th {\n",
       "        text-align: right;\n",
       "    }\n",
       "\n",
       "    .dataframe thead th {\n",
       "        text-align: left;\n",
       "    }\n",
       "\n",
       "    .dataframe tbody tr th {\n",
       "        vertical-align: top;\n",
       "    }\n",
       "</style>\n",
       "<table border=\"1\" class=\"dataframe\">\n",
       "  <thead>\n",
       "    <tr style=\"text-align: right;\">\n",
       "      <th></th>\n",
       "      <th>Date</th>\n",
       "      <th>Open Price</th>\n",
       "      <th>High Price</th>\n",
       "      <th>Low Price</th>\n",
       "      <th>Close Price</th>\n",
       "      <th>WAP</th>\n",
       "      <th>No.of Shares</th>\n",
       "      <th>No. of Trades</th>\n",
       "      <th>Total Turnover (Rs.)</th>\n",
       "      <th>Deliverable Quantity</th>\n",
       "      <th>% Deli. Qty to Traded Qty</th>\n",
       "      <th>Spread High-Low</th>\n",
       "      <th>Spread Close-Open</th>\n",
       "      <th>gain</th>\n",
       "      <th>gain%</th>\n",
       "    </tr>\n",
       "  </thead>\n",
       "  <tbody>\n",
       "    <tr>\n",
       "      <th>979</th>\n",
       "      <td>7-April-2014</td>\n",
       "      <td>312.00</td>\n",
       "      <td>326.0</td>\n",
       "      <td>312.00</td>\n",
       "      <td>317.70</td>\n",
       "      <td>316.818628</td>\n",
       "      <td>49732</td>\n",
       "      <td>2426</td>\n",
       "      <td>15756024.0</td>\n",
       "      <td>8919.0</td>\n",
       "      <td>8.97</td>\n",
       "      <td>14.00</td>\n",
       "      <td>5.70</td>\n",
       "      <td>0.004585</td>\n",
       "      <td>0.458498</td>\n",
       "    </tr>\n",
       "    <tr>\n",
       "      <th>980</th>\n",
       "      <td>4-April-2014</td>\n",
       "      <td>322.00</td>\n",
       "      <td>322.0</td>\n",
       "      <td>315.40</td>\n",
       "      <td>316.25</td>\n",
       "      <td>317.298764</td>\n",
       "      <td>127251</td>\n",
       "      <td>3261</td>\n",
       "      <td>40376585.0</td>\n",
       "      <td>35839.0</td>\n",
       "      <td>28.16</td>\n",
       "      <td>6.60</td>\n",
       "      <td>-5.75</td>\n",
       "      <td>-0.017399</td>\n",
       "      <td>-1.739941</td>\n",
       "    </tr>\n",
       "    <tr>\n",
       "      <th>981</th>\n",
       "      <td>3-April-2014</td>\n",
       "      <td>327.00</td>\n",
       "      <td>327.8</td>\n",
       "      <td>320.10</td>\n",
       "      <td>321.85</td>\n",
       "      <td>322.703938</td>\n",
       "      <td>236528</td>\n",
       "      <td>5399</td>\n",
       "      <td>76328517.0</td>\n",
       "      <td>96204.0</td>\n",
       "      <td>40.67</td>\n",
       "      <td>7.70</td>\n",
       "      <td>-5.15</td>\n",
       "      <td>-0.013033</td>\n",
       "      <td>-1.303281</td>\n",
       "    </tr>\n",
       "    <tr>\n",
       "      <th>982</th>\n",
       "      <td>2-April-2014</td>\n",
       "      <td>318.25</td>\n",
       "      <td>328.5</td>\n",
       "      <td>318.25</td>\n",
       "      <td>326.10</td>\n",
       "      <td>325.134482</td>\n",
       "      <td>298195</td>\n",
       "      <td>6678</td>\n",
       "      <td>96953477.0</td>\n",
       "      <td>84364.0</td>\n",
       "      <td>28.29</td>\n",
       "      <td>10.25</td>\n",
       "      <td>7.85</td>\n",
       "      <td>0.033434</td>\n",
       "      <td>3.343369</td>\n",
       "    </tr>\n",
       "    <tr>\n",
       "      <th>983</th>\n",
       "      <td>1-April-2014</td>\n",
       "      <td>318.00</td>\n",
       "      <td>321.2</td>\n",
       "      <td>312.10</td>\n",
       "      <td>315.55</td>\n",
       "      <td>315.888821</td>\n",
       "      <td>145027</td>\n",
       "      <td>4657</td>\n",
       "      <td>45812408.0</td>\n",
       "      <td>49849.0</td>\n",
       "      <td>34.37</td>\n",
       "      <td>9.10</td>\n",
       "      <td>-2.45</td>\n",
       "      <td>0.000000</td>\n",
       "      <td>0.000000</td>\n",
       "    </tr>\n",
       "  </tbody>\n",
       "</table>\n",
       "</div>"
      ],
      "text/plain": [
       "             Date  Open Price  High Price  Low Price  Close Price         WAP  \\\n",
       "979  7-April-2014      312.00       326.0     312.00       317.70  316.818628   \n",
       "980  4-April-2014      322.00       322.0     315.40       316.25  317.298764   \n",
       "981  3-April-2014      327.00       327.8     320.10       321.85  322.703938   \n",
       "982  2-April-2014      318.25       328.5     318.25       326.10  325.134482   \n",
       "983  1-April-2014      318.00       321.2     312.10       315.55  315.888821   \n",
       "\n",
       "     No.of Shares  No. of Trades  Total Turnover (Rs.)  Deliverable Quantity  \\\n",
       "979         49732           2426            15756024.0                8919.0   \n",
       "980        127251           3261            40376585.0               35839.0   \n",
       "981        236528           5399            76328517.0               96204.0   \n",
       "982        298195           6678            96953477.0               84364.0   \n",
       "983        145027           4657            45812408.0               49849.0   \n",
       "\n",
       "     % Deli. Qty to Traded Qty  Spread High-Low  Spread Close-Open      gain  \\\n",
       "979                       8.97            14.00               5.70  0.004585   \n",
       "980                      28.16             6.60              -5.75 -0.017399   \n",
       "981                      40.67             7.70              -5.15 -0.013033   \n",
       "982                      28.29            10.25               7.85  0.033434   \n",
       "983                      34.37             9.10              -2.45  0.000000   \n",
       "\n",
       "        gain%  \n",
       "979  0.458498  \n",
       "980 -1.739941  \n",
       "981 -1.303281  \n",
       "982  3.343369  \n",
       "983  0.000000  "
      ]
     },
     "execution_count": 22,
     "metadata": {},
     "output_type": "execute_result"
    }
   ],
   "source": [
    "AI_df.tail(5)"
   ]
  },
  {
   "cell_type": "code",
   "execution_count": 23,
   "metadata": {
    "collapsed": true
   },
   "outputs": [],
   "source": [
    "# gain of tata motors \n",
    "tataM_df['gain'] = (tataM_df['Close Price'].pct_change(-1).fillna(0))"
   ]
  },
  {
   "cell_type": "code",
   "execution_count": 24,
   "metadata": {
    "collapsed": true
   },
   "outputs": [],
   "source": [
    "# Percentage gain of tata motors \n",
    "tataM_df['gain%'] = (tataM_df['Close Price'].pct_change(-1).fillna(0))*100"
   ]
  },
  {
   "cell_type": "code",
   "execution_count": 25,
   "metadata": {},
   "outputs": [
    {
     "data": {
      "text/html": [
       "<div>\n",
       "<style>\n",
       "    .dataframe thead tr:only-child th {\n",
       "        text-align: right;\n",
       "    }\n",
       "\n",
       "    .dataframe thead th {\n",
       "        text-align: left;\n",
       "    }\n",
       "\n",
       "    .dataframe tbody tr th {\n",
       "        vertical-align: top;\n",
       "    }\n",
       "</style>\n",
       "<table border=\"1\" class=\"dataframe\">\n",
       "  <thead>\n",
       "    <tr style=\"text-align: right;\">\n",
       "      <th></th>\n",
       "      <th>Date</th>\n",
       "      <th>Open Price</th>\n",
       "      <th>High Price</th>\n",
       "      <th>Low Price</th>\n",
       "      <th>Close Price</th>\n",
       "      <th>WAP</th>\n",
       "      <th>No.of Shares</th>\n",
       "      <th>No. of Trades</th>\n",
       "      <th>Total Turnover (Rs.)</th>\n",
       "      <th>Deliverable Quantity</th>\n",
       "      <th>% Deli. Qty to Traded Qty</th>\n",
       "      <th>Spread High-Low</th>\n",
       "      <th>Spread Close-Open</th>\n",
       "      <th>gain</th>\n",
       "      <th>gain%</th>\n",
       "    </tr>\n",
       "  </thead>\n",
       "  <tbody>\n",
       "    <tr>\n",
       "      <th>979</th>\n",
       "      <td>7-April-2014</td>\n",
       "      <td>404.00</td>\n",
       "      <td>423.60</td>\n",
       "      <td>400.2</td>\n",
       "      <td>403.25</td>\n",
       "      <td>403.242984</td>\n",
       "      <td>413172</td>\n",
       "      <td>5597</td>\n",
       "      <td>166608710.0</td>\n",
       "      <td>275160.0</td>\n",
       "      <td>33.30</td>\n",
       "      <td>23.40</td>\n",
       "      <td>-0.75</td>\n",
       "      <td>-0.004567</td>\n",
       "      <td>-0.456677</td>\n",
       "    </tr>\n",
       "    <tr>\n",
       "      <th>980</th>\n",
       "      <td>4-April-2014</td>\n",
       "      <td>413.65</td>\n",
       "      <td>413.65</td>\n",
       "      <td>404.5</td>\n",
       "      <td>405.10</td>\n",
       "      <td>406.199588</td>\n",
       "      <td>383816</td>\n",
       "      <td>3957</td>\n",
       "      <td>155905901.0</td>\n",
       "      <td>196095.0</td>\n",
       "      <td>51.09</td>\n",
       "      <td>9.15</td>\n",
       "      <td>-8.55</td>\n",
       "      <td>-0.014954</td>\n",
       "      <td>-1.495441</td>\n",
       "    </tr>\n",
       "    <tr>\n",
       "      <th>981</th>\n",
       "      <td>3-April-2014</td>\n",
       "      <td>415.05</td>\n",
       "      <td>417.85</td>\n",
       "      <td>406.9</td>\n",
       "      <td>411.25</td>\n",
       "      <td>413.110371</td>\n",
       "      <td>365050</td>\n",
       "      <td>7323</td>\n",
       "      <td>150805941.0</td>\n",
       "      <td>77397.0</td>\n",
       "      <td>21.20</td>\n",
       "      <td>10.95</td>\n",
       "      <td>-3.80</td>\n",
       "      <td>-0.005562</td>\n",
       "      <td>-0.556160</td>\n",
       "    </tr>\n",
       "    <tr>\n",
       "      <th>982</th>\n",
       "      <td>2-April-2014</td>\n",
       "      <td>406.00</td>\n",
       "      <td>414.30</td>\n",
       "      <td>405.0</td>\n",
       "      <td>413.55</td>\n",
       "      <td>411.939946</td>\n",
       "      <td>987732</td>\n",
       "      <td>18424</td>\n",
       "      <td>406886267.0</td>\n",
       "      <td>430986.0</td>\n",
       "      <td>43.63</td>\n",
       "      <td>9.30</td>\n",
       "      <td>7.55</td>\n",
       "      <td>0.026179</td>\n",
       "      <td>2.617866</td>\n",
       "    </tr>\n",
       "    <tr>\n",
       "      <th>983</th>\n",
       "      <td>1-April-2014</td>\n",
       "      <td>403.00</td>\n",
       "      <td>405.55</td>\n",
       "      <td>399.7</td>\n",
       "      <td>403.00</td>\n",
       "      <td>402.323357</td>\n",
       "      <td>534471</td>\n",
       "      <td>6930</td>\n",
       "      <td>215030167.0</td>\n",
       "      <td>262979.0</td>\n",
       "      <td>49.20</td>\n",
       "      <td>5.85</td>\n",
       "      <td>0.00</td>\n",
       "      <td>0.000000</td>\n",
       "      <td>0.000000</td>\n",
       "    </tr>\n",
       "  </tbody>\n",
       "</table>\n",
       "</div>"
      ],
      "text/plain": [
       "             Date  Open Price  High Price  Low Price  Close Price         WAP  \\\n",
       "979  7-April-2014      404.00      423.60      400.2       403.25  403.242984   \n",
       "980  4-April-2014      413.65      413.65      404.5       405.10  406.199588   \n",
       "981  3-April-2014      415.05      417.85      406.9       411.25  413.110371   \n",
       "982  2-April-2014      406.00      414.30      405.0       413.55  411.939946   \n",
       "983  1-April-2014      403.00      405.55      399.7       403.00  402.323357   \n",
       "\n",
       "     No.of Shares  No. of Trades  Total Turnover (Rs.)  Deliverable Quantity  \\\n",
       "979        413172           5597           166608710.0              275160.0   \n",
       "980        383816           3957           155905901.0              196095.0   \n",
       "981        365050           7323           150805941.0               77397.0   \n",
       "982        987732          18424           406886267.0              430986.0   \n",
       "983        534471           6930           215030167.0              262979.0   \n",
       "\n",
       "     % Deli. Qty to Traded Qty  Spread High-Low  Spread Close-Open      gain  \\\n",
       "979                      33.30            23.40              -0.75 -0.004567   \n",
       "980                      51.09             9.15              -8.55 -0.014954   \n",
       "981                      21.20            10.95              -3.80 -0.005562   \n",
       "982                      43.63             9.30               7.55  0.026179   \n",
       "983                      49.20             5.85               0.00  0.000000   \n",
       "\n",
       "        gain%  \n",
       "979 -0.456677  \n",
       "980 -1.495441  \n",
       "981 -0.556160  \n",
       "982  2.617866  \n",
       "983  0.000000  "
      ]
     },
     "execution_count": 25,
     "metadata": {},
     "output_type": "execute_result"
    }
   ],
   "source": [
    "tataM_df.tail(5)"
   ]
  },
  {
   "cell_type": "markdown",
   "metadata": {},
   "source": [
    "## b) Calculate the mean and variance of the percentage daily returns?"
   ]
  },
  {
   "cell_type": "code",
   "execution_count": 26,
   "metadata": {
    "collapsed": true
   },
   "outputs": [],
   "source": [
    "# Mean of gain percentage for infosys\n",
    "GainPerMean_infosys = infosys_df['gain%'].mean()"
   ]
  },
  {
   "cell_type": "code",
   "execution_count": 27,
   "metadata": {},
   "outputs": [
    {
     "name": "stdout",
     "output_type": "stream",
     "text": [
      "-0.0569\n"
     ]
    }
   ],
   "source": [
    "print(round(GainPerMean_infosys,4))"
   ]
  },
  {
   "cell_type": "code",
   "execution_count": 28,
   "metadata": {
    "collapsed": true
   },
   "outputs": [],
   "source": [
    "# Variance of gain percentage for infosys\n",
    "GainPerVar_infosys = infosys_df['gain%'].var()"
   ]
  },
  {
   "cell_type": "code",
   "execution_count": 29,
   "metadata": {},
   "outputs": [
    {
     "name": "stdout",
     "output_type": "stream",
     "text": [
      "7.5213\n"
     ]
    }
   ],
   "source": [
    "print(round(GainPerVar_infosys,4))"
   ]
  },
  {
   "cell_type": "code",
   "execution_count": 30,
   "metadata": {
    "collapsed": true
   },
   "outputs": [],
   "source": [
    "# Mean of gain percentage for icici\n",
    "GainPerMean_icici = icici_df['gain%'].mean()"
   ]
  },
  {
   "cell_type": "code",
   "execution_count": 31,
   "metadata": {},
   "outputs": [
    {
     "name": "stdout",
     "output_type": "stream",
     "text": [
      "-0.0501\n"
     ]
    }
   ],
   "source": [
    "print(round(GainPerMean_icici,4))"
   ]
  },
  {
   "cell_type": "code",
   "execution_count": 32,
   "metadata": {
    "collapsed": true
   },
   "outputs": [],
   "source": [
    "# Variance of gain percentage for icici\n",
    "GainPerVar_icici = icici_df['gain%'].var()"
   ]
  },
  {
   "cell_type": "code",
   "execution_count": 33,
   "metadata": {},
   "outputs": [
    {
     "name": "stdout",
     "output_type": "stream",
     "text": [
      "10.275\n"
     ]
    }
   ],
   "source": [
    "print(round(GainPerVar_icici,4))"
   ]
  },
  {
   "cell_type": "code",
   "execution_count": 34,
   "metadata": {
    "collapsed": true
   },
   "outputs": [],
   "source": [
    "# Mean of gain percentage for Air India\n",
    "GainPerMean_AI = AI_df['gain%'].mean()"
   ]
  },
  {
   "cell_type": "code",
   "execution_count": 35,
   "metadata": {},
   "outputs": [
    {
     "name": "stdout",
     "output_type": "stream",
     "text": [
      "0.0396\n"
     ]
    }
   ],
   "source": [
    "print(round(GainPerMean_AI,4))"
   ]
  },
  {
   "cell_type": "code",
   "execution_count": 36,
   "metadata": {
    "collapsed": true
   },
   "outputs": [],
   "source": [
    "# Variance of gain percentage for Air India\n",
    "GainPerVar_AI = AI_df['gain%'].var()"
   ]
  },
  {
   "cell_type": "code",
   "execution_count": 37,
   "metadata": {},
   "outputs": [
    {
     "name": "stdout",
     "output_type": "stream",
     "text": [
      "3.183\n"
     ]
    }
   ],
   "source": [
    "print(round(GainPerVar_AI,4))"
   ]
  },
  {
   "cell_type": "code",
   "execution_count": 38,
   "metadata": {
    "collapsed": true
   },
   "outputs": [],
   "source": [
    "# Mean of gain percentage for tata motors\n",
    "GainPerMean_tataM = tataM_df['gain%'].mean()"
   ]
  },
  {
   "cell_type": "code",
   "execution_count": 39,
   "metadata": {},
   "outputs": [
    {
     "name": "stdout",
     "output_type": "stream",
     "text": [
      "0.0016\n"
     ]
    }
   ],
   "source": [
    "print(round(GainPerMean_tataM,4))"
   ]
  },
  {
   "cell_type": "code",
   "execution_count": 40,
   "metadata": {
    "collapsed": true
   },
   "outputs": [],
   "source": [
    "# Variance of gain percentage for tata motors\n",
    "GainPerVar_tataM = tataM_df['gain%'].var()"
   ]
  },
  {
   "cell_type": "code",
   "execution_count": 41,
   "metadata": {},
   "outputs": [
    {
     "name": "stdout",
     "output_type": "stream",
     "text": [
      "4.5375\n"
     ]
    }
   ],
   "source": [
    "print(round(GainPerVar_tataM,4))"
   ]
  },
  {
   "cell_type": "markdown",
   "metadata": {},
   "source": [
    "## c) Which stock has highest volatility? Draw the distribution of daily returns for all stock in one plot."
   ]
  },
  {
   "cell_type": "code",
   "execution_count": 42,
   "metadata": {},
   "outputs": [
    {
     "data": {
      "text/plain": [
       "<matplotlib.legend.Legend at 0xb5f0940>"
      ]
     },
     "execution_count": 42,
     "metadata": {},
     "output_type": "execute_result"
    },
    {
     "data": {
      "image/png": "[encoded data removed]",
      "text/plain": [
       "<matplotlib.figure.Figure at 0xb528630>"
      ]
     },
     "metadata": {},
     "output_type": "display_data"
    }
   ],
   "source": [
    "sn.set(rc= {\"figure.figsize\": (10,6)})\n",
    "sn.distplot(infosys_df['gain'], hist = False, color = 'b', label = \"Infosys\")\n",
    "sn.distplot(icici_df['gain'], hist = False, color = 'r', label = \"ICICI\")\n",
    "sn.distplot(AI_df['gain'], hist = False, color = 'g', label = \"Air India\")\n",
    "sn.distplot(tataM_df['gain'], hist = False, color = 'y', label = \"TATA Motors\")\n",
    "plt.legend()"
   ]
  },
  {
   "cell_type": "markdown",
   "metadata": {},
   "source": [
    "##### ICICI has the highest volatile stock returns among the four as it has highest variance i.e. 10.275%."
   ]
  },
  {
   "cell_type": "markdown",
   "metadata": {},
   "source": [
    "## d) Are the percentage daily returns of these stocks correlated? Compute the correlations between the daily returns of the above 4 stocks and draw a heatmap."
   ]
  },
  {
   "cell_type": "code",
   "execution_count": 43,
   "metadata": {},
   "outputs": [
    {
     "data": {
      "text/plain": [
       "(0.036855107918247587, 0.24808121875217762)"
      ]
     },
     "execution_count": 43,
     "metadata": {},
     "output_type": "execute_result"
    }
   ],
   "source": [
    "# Correlation coefficients of stocks - method1 \n",
    "scipy.stats.pearsonr(infosys_df['gain%'], icici_df['gain%'])"
   ]
  },
  {
   "cell_type": "code",
   "execution_count": 44,
   "metadata": {},
   "outputs": [
    {
     "data": {
      "text/plain": [
       "(0.043323175953749134, 0.17449379324398751)"
      ]
     },
     "execution_count": 44,
     "metadata": {},
     "output_type": "execute_result"
    }
   ],
   "source": [
    "scipy.stats.pearsonr(infosys_df['gain%'], AI_df['gain%'])"
   ]
  },
  {
   "cell_type": "code",
   "execution_count": 45,
   "metadata": {
    "collapsed": true
   },
   "outputs": [],
   "source": [
    "# Creating pandas data frame to calculate correlation matrix\n",
    "gain_df = pd.DataFrame(infosys_df['gain%'])"
   ]
  },
  {
   "cell_type": "code",
   "execution_count": 46,
   "metadata": {
    "collapsed": true
   },
   "outputs": [],
   "source": [
    "gain_df['icici_gain%'] = icici_df['gain%']"
   ]
  },
  {
   "cell_type": "code",
   "execution_count": 47,
   "metadata": {
    "collapsed": true
   },
   "outputs": [],
   "source": [
    "gain_df['AI_gain%'] = AI_df['gain%']"
   ]
  },
  {
   "cell_type": "code",
   "execution_count": 48,
   "metadata": {
    "collapsed": true
   },
   "outputs": [],
   "source": [
    "gain_df['tataM_gain%'] = tataM_df['gain%']"
   ]
  },
  {
   "cell_type": "code",
   "execution_count": 49,
   "metadata": {
    "collapsed": true
   },
   "outputs": [],
   "source": [
    "# Renaming the column names\n",
    "gain_df.columns = ['infosys_gain%', 'icici_gain%', 'AI_gain%', 'tataM_gain%']"
   ]
  },
  {
   "cell_type": "code",
   "execution_count": 50,
   "metadata": {},
   "outputs": [
    {
     "data": {
      "text/html": [
       "<div>\n",
       "<style>\n",
       "    .dataframe thead tr:only-child th {\n",
       "        text-align: right;\n",
       "    }\n",
       "\n",
       "    .dataframe thead th {\n",
       "        text-align: left;\n",
       "    }\n",
       "\n",
       "    .dataframe tbody tr th {\n",
       "        vertical-align: top;\n",
       "    }\n",
       "</style>\n",
       "<table border=\"1\" class=\"dataframe\">\n",
       "  <thead>\n",
       "    <tr style=\"text-align: right;\">\n",
       "      <th></th>\n",
       "      <th>infosys_gain%</th>\n",
       "      <th>icici_gain%</th>\n",
       "      <th>AI_gain%</th>\n",
       "      <th>tataM_gain%</th>\n",
       "    </tr>\n",
       "  </thead>\n",
       "  <tbody>\n",
       "    <tr>\n",
       "      <th>0</th>\n",
       "      <td>-1.596114</td>\n",
       "      <td>-1.937302</td>\n",
       "      <td>-3.050188</td>\n",
       "      <td>-1.087449</td>\n",
       "    </tr>\n",
       "    <tr>\n",
       "      <th>1</th>\n",
       "      <td>-0.129949</td>\n",
       "      <td>0.870492</td>\n",
       "      <td>-2.419068</td>\n",
       "      <td>-0.301159</td>\n",
       "    </tr>\n",
       "    <tr>\n",
       "      <th>2</th>\n",
       "      <td>-1.126387</td>\n",
       "      <td>2.048586</td>\n",
       "      <td>2.553812</td>\n",
       "      <td>0.286922</td>\n",
       "    </tr>\n",
       "    <tr>\n",
       "      <th>3</th>\n",
       "      <td>0.746462</td>\n",
       "      <td>-2.733204</td>\n",
       "      <td>-0.987357</td>\n",
       "      <td>-2.099349</td>\n",
       "    </tr>\n",
       "    <tr>\n",
       "      <th>4</th>\n",
       "      <td>-0.838610</td>\n",
       "      <td>-2.089088</td>\n",
       "      <td>-0.800287</td>\n",
       "      <td>1.287811</td>\n",
       "    </tr>\n",
       "  </tbody>\n",
       "</table>\n",
       "</div>"
      ],
      "text/plain": [
       "   infosys_gain%  icici_gain%  AI_gain%  tataM_gain%\n",
       "0      -1.596114    -1.937302 -3.050188    -1.087449\n",
       "1      -0.129949     0.870492 -2.419068    -0.301159\n",
       "2      -1.126387     2.048586  2.553812     0.286922\n",
       "3       0.746462    -2.733204 -0.987357    -2.099349\n",
       "4      -0.838610    -2.089088 -0.800287     1.287811"
      ]
     },
     "execution_count": 50,
     "metadata": {},
     "output_type": "execute_result"
    }
   ],
   "source": [
    "gain_df.head(5)"
   ]
  },
  {
   "cell_type": "code",
   "execution_count": 51,
   "metadata": {
    "collapsed": true
   },
   "outputs": [],
   "source": [
    "# Correlation coefficients of stocks - method2 (correlation matrix) \n",
    "Stocks_Corr = gain_df.corr()"
   ]
  },
  {
   "cell_type": "code",
   "execution_count": 52,
   "metadata": {},
   "outputs": [
    {
     "name": "stdout",
     "output_type": "stream",
     "text": [
      "               infosys_gain%  icici_gain%  AI_gain%  tataM_gain%\n",
      "infosys_gain%       1.000000     0.036855  0.043323     0.074941\n",
      "icici_gain%         0.036855     1.000000  0.167802     0.257385\n",
      "AI_gain%            0.043323     0.167802  1.000000     0.214720\n",
      "tataM_gain%         0.074941     0.257385  0.214720     1.000000\n"
     ]
    }
   ],
   "source": [
    "print(Stocks_Corr)"
   ]
  },
  {
   "cell_type": "code",
   "execution_count": 53,
   "metadata": {},
   "outputs": [
    {
     "data": {
      "text/plain": [
       "<matplotlib.axes._subplots.AxesSubplot at 0xb528400>"
      ]
     },
     "execution_count": 53,
     "metadata": {},
     "output_type": "execute_result"
    },
    {
     "data": {
      "image/png": "[encoded data removed]",
      "text/plain": [
       "<matplotlib.figure.Figure at 0xb9bd668>"
      ]
     },
     "metadata": {},
     "output_type": "display_data"
    }
   ],
   "source": [
    "# Creating heatmap of correlation matrix\n",
    "sn.heatmap(Stocks_Corr, xticklabels=Stocks_Corr.columns.values, yticklabels=Stocks_Corr.columns.values, annot=True)"
   ]
  },
  {
   "cell_type": "markdown",
   "metadata": {},
   "source": [
    "## Question 2"
   ]
  },
  {
   "cell_type": "markdown",
   "metadata": {},
   "source": [
    "##  a) Calculate the mean and variance of percentage monthly returns?"
   ]
  },
  {
   "cell_type": "code",
   "execution_count": 54,
   "metadata": {
    "collapsed": true
   },
   "outputs": [],
   "source": [
    "# set the index to date\n",
    "infosys_df = infosys_df.set_index(pd.DatetimeIndex(infosys_df['Date']))"
   ]
  },
  {
   "cell_type": "code",
   "execution_count": 55,
   "metadata": {
    "collapsed": true
   },
   "outputs": [],
   "source": [
    "# resample the data on month frequency\n",
    "infosysMonthly_df = infosys_df.resample('M').mean()"
   ]
  },
  {
   "cell_type": "code",
   "execution_count": 56,
   "metadata": {},
   "outputs": [
    {
     "data": {
      "text/html": [
       "<div>\n",
       "<style>\n",
       "    .dataframe thead tr:only-child th {\n",
       "        text-align: right;\n",
       "    }\n",
       "\n",
       "    .dataframe thead th {\n",
       "        text-align: left;\n",
       "    }\n",
       "\n",
       "    .dataframe tbody tr th {\n",
       "        vertical-align: top;\n",
       "    }\n",
       "</style>\n",
       "<table border=\"1\" class=\"dataframe\">\n",
       "  <thead>\n",
       "    <tr style=\"text-align: right;\">\n",
       "      <th></th>\n",
       "      <th>Open Price</th>\n",
       "      <th>High Price</th>\n",
       "      <th>Low Price</th>\n",
       "      <th>Close Price</th>\n",
       "      <th>WAP</th>\n",
       "      <th>No.of Shares</th>\n",
       "      <th>No. of Trades</th>\n",
       "      <th>Total Turnover (Rs.)</th>\n",
       "      <th>Deliverable Quantity</th>\n",
       "      <th>% Deli. Qty to Traded Qty</th>\n",
       "      <th>Spread High-Low</th>\n",
       "      <th>Spread Close-Open</th>\n",
       "      <th>gain</th>\n",
       "      <th>gain%</th>\n",
       "    </tr>\n",
       "    <tr>\n",
       "      <th>Date</th>\n",
       "      <th></th>\n",
       "      <th></th>\n",
       "      <th></th>\n",
       "      <th></th>\n",
       "      <th></th>\n",
       "      <th></th>\n",
       "      <th></th>\n",
       "      <th></th>\n",
       "      <th></th>\n",
       "      <th></th>\n",
       "      <th></th>\n",
       "      <th></th>\n",
       "      <th></th>\n",
       "      <th></th>\n",
       "    </tr>\n",
       "  </thead>\n",
       "  <tbody>\n",
       "    <tr>\n",
       "      <th>2014-04-30</th>\n",
       "      <td>3244.550000</td>\n",
       "      <td>3262.686111</td>\n",
       "      <td>3205.063889</td>\n",
       "      <td>3227.252778</td>\n",
       "      <td>3231.438310</td>\n",
       "      <td>85782.777778</td>\n",
       "      <td>8659.777778</td>\n",
       "      <td>2.776979e+08</td>\n",
       "      <td>48258.944444</td>\n",
       "      <td>39.680556</td>\n",
       "      <td>57.622222</td>\n",
       "      <td>-17.297222</td>\n",
       "      <td>-0.002231</td>\n",
       "      <td>-0.223121</td>\n",
       "    </tr>\n",
       "    <tr>\n",
       "      <th>2014-05-31</th>\n",
       "      <td>3135.040476</td>\n",
       "      <td>3174.861905</td>\n",
       "      <td>3083.735714</td>\n",
       "      <td>3126.826190</td>\n",
       "      <td>3126.053532</td>\n",
       "      <td>124603.571429</td>\n",
       "      <td>11944.952381</td>\n",
       "      <td>3.759565e+08</td>\n",
       "      <td>69979.714286</td>\n",
       "      <td>36.677143</td>\n",
       "      <td>91.126190</td>\n",
       "      <td>-8.214286</td>\n",
       "      <td>-0.003324</td>\n",
       "      <td>-0.332377</td>\n",
       "    </tr>\n",
       "    <tr>\n",
       "      <th>2014-06-30</th>\n",
       "      <td>3152.723810</td>\n",
       "      <td>3188.326190</td>\n",
       "      <td>3118.785714</td>\n",
       "      <td>3156.866667</td>\n",
       "      <td>3154.112030</td>\n",
       "      <td>94756.047619</td>\n",
       "      <td>13503.380952</td>\n",
       "      <td>2.983225e+08</td>\n",
       "      <td>33422.190476</td>\n",
       "      <td>38.257619</td>\n",
       "      <td>69.540476</td>\n",
       "      <td>4.142857</td>\n",
       "      <td>0.004806</td>\n",
       "      <td>0.480638</td>\n",
       "    </tr>\n",
       "    <tr>\n",
       "      <th>2014-07-31</th>\n",
       "      <td>3289.752273</td>\n",
       "      <td>3327.550000</td>\n",
       "      <td>3254.765909</td>\n",
       "      <td>3285.834091</td>\n",
       "      <td>3289.128127</td>\n",
       "      <td>57644.727273</td>\n",
       "      <td>8600.818182</td>\n",
       "      <td>1.902082e+08</td>\n",
       "      <td>17808.681818</td>\n",
       "      <td>32.379091</td>\n",
       "      <td>72.784091</td>\n",
       "      <td>-3.918182</td>\n",
       "      <td>0.001729</td>\n",
       "      <td>0.172867</td>\n",
       "    </tr>\n",
       "    <tr>\n",
       "      <th>2014-08-31</th>\n",
       "      <td>3539.642105</td>\n",
       "      <td>3577.381579</td>\n",
       "      <td>3519.750000</td>\n",
       "      <td>3552.863158</td>\n",
       "      <td>3551.791661</td>\n",
       "      <td>50798.473684</td>\n",
       "      <td>7099.736842</td>\n",
       "      <td>1.800033e+08</td>\n",
       "      <td>18208.000000</td>\n",
       "      <td>27.123684</td>\n",
       "      <td>57.631579</td>\n",
       "      <td>13.221053</td>\n",
       "      <td>0.003550</td>\n",
       "      <td>0.354966</td>\n",
       "    </tr>\n",
       "  </tbody>\n",
       "</table>\n",
       "</div>"
      ],
      "text/plain": [
       "             Open Price   High Price    Low Price  Close Price          WAP  \\\n",
       "Date                                                                          \n",
       "2014-04-30  3244.550000  3262.686111  3205.063889  3227.252778  3231.438310   \n",
       "2014-05-31  3135.040476  3174.861905  3083.735714  3126.826190  3126.053532   \n",
       "2014-06-30  3152.723810  3188.326190  3118.785714  3156.866667  3154.112030   \n",
       "2014-07-31  3289.752273  3327.550000  3254.765909  3285.834091  3289.128127   \n",
       "2014-08-31  3539.642105  3577.381579  3519.750000  3552.863158  3551.791661   \n",
       "\n",
       "             No.of Shares  No. of Trades  Total Turnover (Rs.)  \\\n",
       "Date                                                             \n",
       "2014-04-30   85782.777778    8659.777778          2.776979e+08   \n",
       "2014-05-31  124603.571429   11944.952381          3.759565e+08   \n",
       "2014-06-30   94756.047619   13503.380952          2.983225e+08   \n",
       "2014-07-31   57644.727273    8600.818182          1.902082e+08   \n",
       "2014-08-31   50798.473684    7099.736842          1.800033e+08   \n",
       "\n",
       "            Deliverable Quantity  % Deli. Qty to Traded Qty  Spread High-Low  \\\n",
       "Date                                                                           \n",
       "2014-04-30          48258.944444                  39.680556        57.622222   \n",
       "2014-05-31          69979.714286                  36.677143        91.126190   \n",
       "2014-06-30          33422.190476                  38.257619        69.540476   \n",
       "2014-07-31          17808.681818                  32.379091        72.784091   \n",
       "2014-08-31          18208.000000                  27.123684        57.631579   \n",
       "\n",
       "            Spread Close-Open      gain     gain%  \n",
       "Date                                               \n",
       "2014-04-30         -17.297222 -0.002231 -0.223121  \n",
       "2014-05-31          -8.214286 -0.003324 -0.332377  \n",
       "2014-06-30           4.142857  0.004806  0.480638  \n",
       "2014-07-31          -3.918182  0.001729  0.172867  \n",
       "2014-08-31          13.221053  0.003550  0.354966  "
      ]
     },
     "execution_count": 56,
     "metadata": {},
     "output_type": "execute_result"
    }
   ],
   "source": [
    "infosysMonthly_df.head(5)"
   ]
  },
  {
   "cell_type": "code",
   "execution_count": 57,
   "metadata": {
    "collapsed": true
   },
   "outputs": [],
   "source": [
    "# set the index to date\n",
    "icici_df = icici_df.set_index(pd.DatetimeIndex(icici_df['Date']))"
   ]
  },
  {
   "cell_type": "code",
   "execution_count": 58,
   "metadata": {
    "collapsed": true
   },
   "outputs": [],
   "source": [
    "# resample the data on month frequency\n",
    "iciciMonthly_df = icici_df.resample('M').mean()"
   ]
  },
  {
   "cell_type": "code",
   "execution_count": 59,
   "metadata": {},
   "outputs": [
    {
     "data": {
      "text/html": [
       "<div>\n",
       "<style>\n",
       "    .dataframe thead tr:only-child th {\n",
       "        text-align: right;\n",
       "    }\n",
       "\n",
       "    .dataframe thead th {\n",
       "        text-align: left;\n",
       "    }\n",
       "\n",
       "    .dataframe tbody tr th {\n",
       "        vertical-align: top;\n",
       "    }\n",
       "</style>\n",
       "<table border=\"1\" class=\"dataframe\">\n",
       "  <thead>\n",
       "    <tr style=\"text-align: right;\">\n",
       "      <th></th>\n",
       "      <th>Open Price</th>\n",
       "      <th>High Price</th>\n",
       "      <th>Low Price</th>\n",
       "      <th>Close Price</th>\n",
       "      <th>WAP</th>\n",
       "      <th>No.of Shares</th>\n",
       "      <th>No. of Trades</th>\n",
       "      <th>Total Turnover (Rs.)</th>\n",
       "      <th>Deliverable Quantity</th>\n",
       "      <th>% Deli. Qty to Traded Qty</th>\n",
       "      <th>Spread High-Low</th>\n",
       "      <th>Spread Close-Open</th>\n",
       "      <th>gain</th>\n",
       "      <th>gain%</th>\n",
       "    </tr>\n",
       "    <tr>\n",
       "      <th>Date</th>\n",
       "      <th></th>\n",
       "      <th></th>\n",
       "      <th></th>\n",
       "      <th></th>\n",
       "      <th></th>\n",
       "      <th></th>\n",
       "      <th></th>\n",
       "      <th></th>\n",
       "      <th></th>\n",
       "      <th></th>\n",
       "      <th></th>\n",
       "      <th></th>\n",
       "      <th></th>\n",
       "      <th></th>\n",
       "    </tr>\n",
       "  </thead>\n",
       "  <tbody>\n",
       "    <tr>\n",
       "      <th>2014-04-30</th>\n",
       "      <td>1249.580556</td>\n",
       "      <td>1268.777778</td>\n",
       "      <td>1234.225000</td>\n",
       "      <td>1250.166667</td>\n",
       "      <td>1250.682255</td>\n",
       "      <td>249446.388889</td>\n",
       "      <td>12215.444444</td>\n",
       "      <td>3.125763e+08</td>\n",
       "      <td>101996.722222</td>\n",
       "      <td>36.210000</td>\n",
       "      <td>34.552778</td>\n",
       "      <td>0.586111</td>\n",
       "      <td>0.001081</td>\n",
       "      <td>0.108062</td>\n",
       "    </tr>\n",
       "    <tr>\n",
       "      <th>2014-05-31</th>\n",
       "      <td>1391.200000</td>\n",
       "      <td>1417.442857</td>\n",
       "      <td>1373.019048</td>\n",
       "      <td>1393.861905</td>\n",
       "      <td>1396.022672</td>\n",
       "      <td>267053.095238</td>\n",
       "      <td>18543.000000</td>\n",
       "      <td>3.770193e+08</td>\n",
       "      <td>75796.047619</td>\n",
       "      <td>28.229524</td>\n",
       "      <td>44.423810</td>\n",
       "      <td>2.661905</td>\n",
       "      <td>0.006420</td>\n",
       "      <td>0.642032</td>\n",
       "    </tr>\n",
       "    <tr>\n",
       "      <th>2014-06-30</th>\n",
       "      <td>1442.173810</td>\n",
       "      <td>1458.685714</td>\n",
       "      <td>1423.380952</td>\n",
       "      <td>1439.607143</td>\n",
       "      <td>1440.799850</td>\n",
       "      <td>198606.523810</td>\n",
       "      <td>12766.666667</td>\n",
       "      <td>2.867093e+08</td>\n",
       "      <td>62308.571429</td>\n",
       "      <td>29.760000</td>\n",
       "      <td>35.304762</td>\n",
       "      <td>-2.566667</td>\n",
       "      <td>0.000108</td>\n",
       "      <td>0.010795</td>\n",
       "    </tr>\n",
       "    <tr>\n",
       "      <th>2014-07-31</th>\n",
       "      <td>1447.613636</td>\n",
       "      <td>1465.122727</td>\n",
       "      <td>1429.581818</td>\n",
       "      <td>1445.763636</td>\n",
       "      <td>1449.209964</td>\n",
       "      <td>247223.363636</td>\n",
       "      <td>12388.636364</td>\n",
       "      <td>3.578757e+08</td>\n",
       "      <td>121439.590909</td>\n",
       "      <td>38.221818</td>\n",
       "      <td>35.540909</td>\n",
       "      <td>-1.850000</td>\n",
       "      <td>0.001887</td>\n",
       "      <td>0.188690</td>\n",
       "    </tr>\n",
       "    <tr>\n",
       "      <th>2014-08-31</th>\n",
       "      <td>1493.339474</td>\n",
       "      <td>1511.397368</td>\n",
       "      <td>1481.110526</td>\n",
       "      <td>1496.597368</td>\n",
       "      <td>1497.156529</td>\n",
       "      <td>158800.526316</td>\n",
       "      <td>11355.263158</td>\n",
       "      <td>2.385449e+08</td>\n",
       "      <td>53774.526316</td>\n",
       "      <td>30.650000</td>\n",
       "      <td>30.286842</td>\n",
       "      <td>3.257895</td>\n",
       "      <td>0.002997</td>\n",
       "      <td>0.299741</td>\n",
       "    </tr>\n",
       "  </tbody>\n",
       "</table>\n",
       "</div>"
      ],
      "text/plain": [
       "             Open Price   High Price    Low Price  Close Price          WAP  \\\n",
       "Date                                                                          \n",
       "2014-04-30  1249.580556  1268.777778  1234.225000  1250.166667  1250.682255   \n",
       "2014-05-31  1391.200000  1417.442857  1373.019048  1393.861905  1396.022672   \n",
       "2014-06-30  1442.173810  1458.685714  1423.380952  1439.607143  1440.799850   \n",
       "2014-07-31  1447.613636  1465.122727  1429.581818  1445.763636  1449.209964   \n",
       "2014-08-31  1493.339474  1511.397368  1481.110526  1496.597368  1497.156529   \n",
       "\n",
       "             No.of Shares  No. of Trades  Total Turnover (Rs.)  \\\n",
       "Date                                                             \n",
       "2014-04-30  249446.388889   12215.444444          3.125763e+08   \n",
       "2014-05-31  267053.095238   18543.000000          3.770193e+08   \n",
       "2014-06-30  198606.523810   12766.666667          2.867093e+08   \n",
       "2014-07-31  247223.363636   12388.636364          3.578757e+08   \n",
       "2014-08-31  158800.526316   11355.263158          2.385449e+08   \n",
       "\n",
       "            Deliverable Quantity  % Deli. Qty to Traded Qty  Spread High-Low  \\\n",
       "Date                                                                           \n",
       "2014-04-30         101996.722222                  36.210000        34.552778   \n",
       "2014-05-31          75796.047619                  28.229524        44.423810   \n",
       "2014-06-30          62308.571429                  29.760000        35.304762   \n",
       "2014-07-31         121439.590909                  38.221818        35.540909   \n",
       "2014-08-31          53774.526316                  30.650000        30.286842   \n",
       "\n",
       "            Spread Close-Open      gain     gain%  \n",
       "Date                                               \n",
       "2014-04-30           0.586111  0.001081  0.108062  \n",
       "2014-05-31           2.661905  0.006420  0.642032  \n",
       "2014-06-30          -2.566667  0.000108  0.010795  \n",
       "2014-07-31          -1.850000  0.001887  0.188690  \n",
       "2014-08-31           3.257895  0.002997  0.299741  "
      ]
     },
     "execution_count": 59,
     "metadata": {},
     "output_type": "execute_result"
    }
   ],
   "source": [
    "iciciMonthly_df.head(5)"
   ]
  },
  {
   "cell_type": "code",
   "execution_count": 60,
   "metadata": {
    "collapsed": true
   },
   "outputs": [],
   "source": [
    "# set the index to date\n",
    "AI_df = AI_df.set_index(pd.DatetimeIndex(AI_df['Date']))"
   ]
  },
  {
   "cell_type": "code",
   "execution_count": 61,
   "metadata": {
    "collapsed": true
   },
   "outputs": [],
   "source": [
    "# resample the data on month frequency\n",
    "AIMonthly_df = AI_df.resample('M').mean()"
   ]
  },
  {
   "cell_type": "code",
   "execution_count": 62,
   "metadata": {},
   "outputs": [
    {
     "data": {
      "text/html": [
       "<div>\n",
       "<style>\n",
       "    .dataframe thead tr:only-child th {\n",
       "        text-align: right;\n",
       "    }\n",
       "\n",
       "    .dataframe thead th {\n",
       "        text-align: left;\n",
       "    }\n",
       "\n",
       "    .dataframe tbody tr th {\n",
       "        vertical-align: top;\n",
       "    }\n",
       "</style>\n",
       "<table border=\"1\" class=\"dataframe\">\n",
       "  <thead>\n",
       "    <tr style=\"text-align: right;\">\n",
       "      <th></th>\n",
       "      <th>Open Price</th>\n",
       "      <th>High Price</th>\n",
       "      <th>Low Price</th>\n",
       "      <th>Close Price</th>\n",
       "      <th>WAP</th>\n",
       "      <th>No.of Shares</th>\n",
       "      <th>No. of Trades</th>\n",
       "      <th>Total Turnover (Rs.)</th>\n",
       "      <th>Deliverable Quantity</th>\n",
       "      <th>% Deli. Qty to Traded Qty</th>\n",
       "      <th>Spread High-Low</th>\n",
       "      <th>Spread Close-Open</th>\n",
       "      <th>gain</th>\n",
       "      <th>gain%</th>\n",
       "    </tr>\n",
       "    <tr>\n",
       "      <th>Date</th>\n",
       "      <th></th>\n",
       "      <th></th>\n",
       "      <th></th>\n",
       "      <th></th>\n",
       "      <th></th>\n",
       "      <th></th>\n",
       "      <th></th>\n",
       "      <th></th>\n",
       "      <th></th>\n",
       "      <th></th>\n",
       "      <th></th>\n",
       "      <th></th>\n",
       "      <th></th>\n",
       "      <th></th>\n",
       "    </tr>\n",
       "  </thead>\n",
       "  <tbody>\n",
       "    <tr>\n",
       "      <th>2014-04-30</th>\n",
       "      <td>326.847222</td>\n",
       "      <td>331.602778</td>\n",
       "      <td>322.850000</td>\n",
       "      <td>326.847222</td>\n",
       "      <td>327.347214</td>\n",
       "      <td>173144.222222</td>\n",
       "      <td>5650.166667</td>\n",
       "      <td>5.695055e+07</td>\n",
       "      <td>42602.388889</td>\n",
       "      <td>23.927778</td>\n",
       "      <td>8.752778</td>\n",
       "      <td>-9.868649e-17</td>\n",
       "      <td>0.002189</td>\n",
       "      <td>0.218859</td>\n",
       "    </tr>\n",
       "    <tr>\n",
       "      <th>2014-05-31</th>\n",
       "      <td>329.440476</td>\n",
       "      <td>334.600000</td>\n",
       "      <td>324.402381</td>\n",
       "      <td>328.800000</td>\n",
       "      <td>329.804302</td>\n",
       "      <td>289347.000000</td>\n",
       "      <td>7974.476190</td>\n",
       "      <td>9.641572e+07</td>\n",
       "      <td>84068.380952</td>\n",
       "      <td>28.638095</td>\n",
       "      <td>10.197619</td>\n",
       "      <td>-6.404762e-01</td>\n",
       "      <td>0.002479</td>\n",
       "      <td>0.247923</td>\n",
       "    </tr>\n",
       "    <tr>\n",
       "      <th>2014-06-30</th>\n",
       "      <td>346.692857</td>\n",
       "      <td>350.535714</td>\n",
       "      <td>340.695238</td>\n",
       "      <td>345.014286</td>\n",
       "      <td>345.277722</td>\n",
       "      <td>381290.666667</td>\n",
       "      <td>7817.000000</td>\n",
       "      <td>1.323052e+08</td>\n",
       "      <td>149802.047619</td>\n",
       "      <td>33.986190</td>\n",
       "      <td>9.840476</td>\n",
       "      <td>-1.678571e+00</td>\n",
       "      <td>-0.000835</td>\n",
       "      <td>-0.083522</td>\n",
       "    </tr>\n",
       "    <tr>\n",
       "      <th>2014-07-31</th>\n",
       "      <td>343.784091</td>\n",
       "      <td>347.656818</td>\n",
       "      <td>340.084091</td>\n",
       "      <td>344.220455</td>\n",
       "      <td>344.092847</td>\n",
       "      <td>359611.318182</td>\n",
       "      <td>7013.090909</td>\n",
       "      <td>1.241962e+08</td>\n",
       "      <td>202769.545455</td>\n",
       "      <td>41.090000</td>\n",
       "      <td>7.572727</td>\n",
       "      <td>4.363636e-01</td>\n",
       "      <td>0.004715</td>\n",
       "      <td>0.471523</td>\n",
       "    </tr>\n",
       "    <tr>\n",
       "      <th>2014-08-31</th>\n",
       "      <td>372.065789</td>\n",
       "      <td>377.200000</td>\n",
       "      <td>367.926316</td>\n",
       "      <td>371.444737</td>\n",
       "      <td>372.035531</td>\n",
       "      <td>289292.105263</td>\n",
       "      <td>5373.578947</td>\n",
       "      <td>1.078940e+08</td>\n",
       "      <td>152100.894737</td>\n",
       "      <td>43.664211</td>\n",
       "      <td>9.273684</td>\n",
       "      <td>-6.210526e-01</td>\n",
       "      <td>-0.000332</td>\n",
       "      <td>-0.033210</td>\n",
       "    </tr>\n",
       "  </tbody>\n",
       "</table>\n",
       "</div>"
      ],
      "text/plain": [
       "            Open Price  High Price   Low Price  Close Price         WAP  \\\n",
       "Date                                                                      \n",
       "2014-04-30  326.847222  331.602778  322.850000   326.847222  327.347214   \n",
       "2014-05-31  329.440476  334.600000  324.402381   328.800000  329.804302   \n",
       "2014-06-30  346.692857  350.535714  340.695238   345.014286  345.277722   \n",
       "2014-07-31  343.784091  347.656818  340.084091   344.220455  344.092847   \n",
       "2014-08-31  372.065789  377.200000  367.926316   371.444737  372.035531   \n",
       "\n",
       "             No.of Shares  No. of Trades  Total Turnover (Rs.)  \\\n",
       "Date                                                             \n",
       "2014-04-30  173144.222222    5650.166667          5.695055e+07   \n",
       "2014-05-31  289347.000000    7974.476190          9.641572e+07   \n",
       "2014-06-30  381290.666667    7817.000000          1.323052e+08   \n",
       "2014-07-31  359611.318182    7013.090909          1.241962e+08   \n",
       "2014-08-31  289292.105263    5373.578947          1.078940e+08   \n",
       "\n",
       "            Deliverable Quantity  % Deli. Qty to Traded Qty  Spread High-Low  \\\n",
       "Date                                                                           \n",
       "2014-04-30          42602.388889                  23.927778         8.752778   \n",
       "2014-05-31          84068.380952                  28.638095        10.197619   \n",
       "2014-06-30         149802.047619                  33.986190         9.840476   \n",
       "2014-07-31         202769.545455                  41.090000         7.572727   \n",
       "2014-08-31         152100.894737                  43.664211         9.273684   \n",
       "\n",
       "            Spread Close-Open      gain     gain%  \n",
       "Date                                               \n",
       "2014-04-30      -9.868649e-17  0.002189  0.218859  \n",
       "2014-05-31      -6.404762e-01  0.002479  0.247923  \n",
       "2014-06-30      -1.678571e+00 -0.000835 -0.083522  \n",
       "2014-07-31       4.363636e-01  0.004715  0.471523  \n",
       "2014-08-31      -6.210526e-01 -0.000332 -0.033210  "
      ]
     },
     "execution_count": 62,
     "metadata": {},
     "output_type": "execute_result"
    }
   ],
   "source": [
    "AIMonthly_df.head(5)"
   ]
  },
  {
   "cell_type": "code",
   "execution_count": 63,
   "metadata": {
    "collapsed": true
   },
   "outputs": [],
   "source": [
    "# set the index to date\n",
    "tataM_df = tataM_df.set_index(pd.DatetimeIndex(tataM_df['Date']))"
   ]
  },
  {
   "cell_type": "code",
   "execution_count": 64,
   "metadata": {
    "collapsed": true
   },
   "outputs": [],
   "source": [
    "# resample the data on month frequency\n",
    "tataMonthly_df = tataM_df.resample('M').mean()"
   ]
  },
  {
   "cell_type": "code",
   "execution_count": 65,
   "metadata": {},
   "outputs": [
    {
     "data": {
      "text/html": [
       "<div>\n",
       "<style>\n",
       "    .dataframe thead tr:only-child th {\n",
       "        text-align: right;\n",
       "    }\n",
       "\n",
       "    .dataframe thead th {\n",
       "        text-align: left;\n",
       "    }\n",
       "\n",
       "    .dataframe tbody tr th {\n",
       "        vertical-align: top;\n",
       "    }\n",
       "</style>\n",
       "<table border=\"1\" class=\"dataframe\">\n",
       "  <thead>\n",
       "    <tr style=\"text-align: right;\">\n",
       "      <th></th>\n",
       "      <th>Open Price</th>\n",
       "      <th>High Price</th>\n",
       "      <th>Low Price</th>\n",
       "      <th>Close Price</th>\n",
       "      <th>WAP</th>\n",
       "      <th>No.of Shares</th>\n",
       "      <th>No. of Trades</th>\n",
       "      <th>Total Turnover (Rs.)</th>\n",
       "      <th>Deliverable Quantity</th>\n",
       "      <th>% Deli. Qty to Traded Qty</th>\n",
       "      <th>Spread High-Low</th>\n",
       "      <th>Spread Close-Open</th>\n",
       "      <th>gain</th>\n",
       "      <th>gain%</th>\n",
       "    </tr>\n",
       "    <tr>\n",
       "      <th>Date</th>\n",
       "      <th></th>\n",
       "      <th></th>\n",
       "      <th></th>\n",
       "      <th></th>\n",
       "      <th></th>\n",
       "      <th></th>\n",
       "      <th></th>\n",
       "      <th></th>\n",
       "      <th></th>\n",
       "      <th></th>\n",
       "      <th></th>\n",
       "      <th></th>\n",
       "      <th></th>\n",
       "      <th></th>\n",
       "    </tr>\n",
       "  </thead>\n",
       "  <tbody>\n",
       "    <tr>\n",
       "      <th>2014-04-30</th>\n",
       "      <td>417.441667</td>\n",
       "      <td>424.572222</td>\n",
       "      <td>412.405556</td>\n",
       "      <td>417.430556</td>\n",
       "      <td>418.025296</td>\n",
       "      <td>423285.333333</td>\n",
       "      <td>9900.388889</td>\n",
       "      <td>1.769210e+08</td>\n",
       "      <td>142129.111111</td>\n",
       "      <td>27.760000</td>\n",
       "      <td>12.166667</td>\n",
       "      <td>-0.011111</td>\n",
       "      <td>0.001753</td>\n",
       "      <td>0.175322</td>\n",
       "    </tr>\n",
       "    <tr>\n",
       "      <th>2014-05-31</th>\n",
       "      <td>431.559524</td>\n",
       "      <td>439.169048</td>\n",
       "      <td>426.309524</td>\n",
       "      <td>431.502381</td>\n",
       "      <td>432.920901</td>\n",
       "      <td>437825.904762</td>\n",
       "      <td>12768.380952</td>\n",
       "      <td>1.912916e+08</td>\n",
       "      <td>130960.666667</td>\n",
       "      <td>28.372381</td>\n",
       "      <td>12.859524</td>\n",
       "      <td>-0.057143</td>\n",
       "      <td>0.000238</td>\n",
       "      <td>0.023776</td>\n",
       "    </tr>\n",
       "    <tr>\n",
       "      <th>2014-06-30</th>\n",
       "      <td>437.169048</td>\n",
       "      <td>442.290476</td>\n",
       "      <td>430.683333</td>\n",
       "      <td>436.833333</td>\n",
       "      <td>436.943879</td>\n",
       "      <td>435134.904762</td>\n",
       "      <td>10520.333333</td>\n",
       "      <td>1.903530e+08</td>\n",
       "      <td>88147.380952</td>\n",
       "      <td>23.095238</td>\n",
       "      <td>11.607143</td>\n",
       "      <td>-0.335714</td>\n",
       "      <td>0.001873</td>\n",
       "      <td>0.187332</td>\n",
       "    </tr>\n",
       "    <tr>\n",
       "      <th>2014-07-31</th>\n",
       "      <td>465.000000</td>\n",
       "      <td>472.206818</td>\n",
       "      <td>457.602273</td>\n",
       "      <td>464.900000</td>\n",
       "      <td>464.801785</td>\n",
       "      <td>380197.272727</td>\n",
       "      <td>9643.500000</td>\n",
       "      <td>1.764595e+08</td>\n",
       "      <td>122054.227273</td>\n",
       "      <td>31.689091</td>\n",
       "      <td>14.604545</td>\n",
       "      <td>-0.100000</td>\n",
       "      <td>0.001848</td>\n",
       "      <td>0.184840</td>\n",
       "    </tr>\n",
       "    <tr>\n",
       "      <th>2014-08-31</th>\n",
       "      <td>481.592105</td>\n",
       "      <td>488.323684</td>\n",
       "      <td>476.165789</td>\n",
       "      <td>482.610526</td>\n",
       "      <td>482.689316</td>\n",
       "      <td>553857.736842</td>\n",
       "      <td>14249.684211</td>\n",
       "      <td>2.667703e+08</td>\n",
       "      <td>132467.157895</td>\n",
       "      <td>26.172105</td>\n",
       "      <td>12.157895</td>\n",
       "      <td>1.018421</td>\n",
       "      <td>0.008684</td>\n",
       "      <td>0.868372</td>\n",
       "    </tr>\n",
       "  </tbody>\n",
       "</table>\n",
       "</div>"
      ],
      "text/plain": [
       "            Open Price  High Price   Low Price  Close Price         WAP  \\\n",
       "Date                                                                      \n",
       "2014-04-30  417.441667  424.572222  412.405556   417.430556  418.025296   \n",
       "2014-05-31  431.559524  439.169048  426.309524   431.502381  432.920901   \n",
       "2014-06-30  437.169048  442.290476  430.683333   436.833333  436.943879   \n",
       "2014-07-31  465.000000  472.206818  457.602273   464.900000  464.801785   \n",
       "2014-08-31  481.592105  488.323684  476.165789   482.610526  482.689316   \n",
       "\n",
       "             No.of Shares  No. of Trades  Total Turnover (Rs.)  \\\n",
       "Date                                                             \n",
       "2014-04-30  423285.333333    9900.388889          1.769210e+08   \n",
       "2014-05-31  437825.904762   12768.380952          1.912916e+08   \n",
       "2014-06-30  435134.904762   10520.333333          1.903530e+08   \n",
       "2014-07-31  380197.272727    9643.500000          1.764595e+08   \n",
       "2014-08-31  553857.736842   14249.684211          2.667703e+08   \n",
       "\n",
       "            Deliverable Quantity  % Deli. Qty to Traded Qty  Spread High-Low  \\\n",
       "Date                                                                           \n",
       "2014-04-30         142129.111111                  27.760000        12.166667   \n",
       "2014-05-31         130960.666667                  28.372381        12.859524   \n",
       "2014-06-30          88147.380952                  23.095238        11.607143   \n",
       "2014-07-31         122054.227273                  31.689091        14.604545   \n",
       "2014-08-31         132467.157895                  26.172105        12.157895   \n",
       "\n",
       "            Spread Close-Open      gain     gain%  \n",
       "Date                                               \n",
       "2014-04-30          -0.011111  0.001753  0.175322  \n",
       "2014-05-31          -0.057143  0.000238  0.023776  \n",
       "2014-06-30          -0.335714  0.001873  0.187332  \n",
       "2014-07-31          -0.100000  0.001848  0.184840  \n",
       "2014-08-31           1.018421  0.008684  0.868372  "
      ]
     },
     "execution_count": 65,
     "metadata": {},
     "output_type": "execute_result"
    }
   ],
   "source": [
    "tataMonthly_df.head(5)"
   ]
  },
  {
   "cell_type": "code",
   "execution_count": 66,
   "metadata": {
    "collapsed": true
   },
   "outputs": [],
   "source": [
    "# Mean of monthly gain percentage\n",
    "MonthlyGainPerMean_infosys = infosysMonthly_df['gain%'].mean()"
   ]
  },
  {
   "cell_type": "code",
   "execution_count": 67,
   "metadata": {},
   "outputs": [
    {
     "name": "stdout",
     "output_type": "stream",
     "text": [
      "-0.0515\n"
     ]
    }
   ],
   "source": [
    "print(round(MonthlyGainPerMean_infosys,4))"
   ]
  },
  {
   "cell_type": "code",
   "execution_count": 68,
   "metadata": {
    "collapsed": true
   },
   "outputs": [],
   "source": [
    "# Variance of monthly gain percentage\n",
    "MonthlyGainPerVar_infosys = infosysMonthly_df['gain%'].var()"
   ]
  },
  {
   "cell_type": "code",
   "execution_count": 69,
   "metadata": {},
   "outputs": [
    {
     "name": "stdout",
     "output_type": "stream",
     "text": [
      "0.3693\n"
     ]
    }
   ],
   "source": [
    "print(round(MonthlyGainPerVar_infosys,4))"
   ]
  },
  {
   "cell_type": "code",
   "execution_count": 70,
   "metadata": {
    "collapsed": true
   },
   "outputs": [],
   "source": [
    "# Mean of monthly gain percentage\n",
    "MonthlyGainPerMean_icici = iciciMonthly_df['gain%'].mean()"
   ]
  },
  {
   "cell_type": "code",
   "execution_count": 71,
   "metadata": {},
   "outputs": [
    {
     "name": "stdout",
     "output_type": "stream",
     "text": [
      "-0.041\n"
     ]
    }
   ],
   "source": [
    "print(round(MonthlyGainPerMean_icici,4))"
   ]
  },
  {
   "cell_type": "code",
   "execution_count": 72,
   "metadata": {
    "collapsed": true
   },
   "outputs": [],
   "source": [
    "# Variance of monthly gain percentage\n",
    "MonthlyGainPerVar_icici = iciciMonthly_df['gain%'].var()"
   ]
  },
  {
   "cell_type": "code",
   "execution_count": 73,
   "metadata": {},
   "outputs": [
    {
     "name": "stdout",
     "output_type": "stream",
     "text": [
      "0.4357\n"
     ]
    }
   ],
   "source": [
    "print(round(MonthlyGainPerVar_icici,4))"
   ]
  },
  {
   "cell_type": "code",
   "execution_count": 74,
   "metadata": {
    "collapsed": true
   },
   "outputs": [],
   "source": [
    "# Mean of monthly gain percentage\n",
    "MonthlyGainPerMean_AI = AIMonthly_df['gain%'].mean()\n",
    "\n",
    "# Variance of monthly gain percentage\n",
    "MonthlyGainPerVar_AI = AIMonthly_df['gain%'].var()"
   ]
  },
  {
   "cell_type": "code",
   "execution_count": 75,
   "metadata": {},
   "outputs": [
    {
     "name": "stdout",
     "output_type": "stream",
     "text": [
      "0.0405\n"
     ]
    }
   ],
   "source": [
    "print(round(MonthlyGainPerMean_AI,4))"
   ]
  },
  {
   "cell_type": "code",
   "execution_count": 76,
   "metadata": {},
   "outputs": [
    {
     "name": "stdout",
     "output_type": "stream",
     "text": [
      "0.1522\n"
     ]
    }
   ],
   "source": [
    "print(round(MonthlyGainPerVar_AI,4))"
   ]
  },
  {
   "cell_type": "code",
   "execution_count": 77,
   "metadata": {
    "collapsed": true
   },
   "outputs": [],
   "source": [
    "# Mean of monthly gain percentage\n",
    "MonthlyGainPerMean_tataM = tataMonthly_df['gain%'].mean()\n",
    "\n",
    "# Variance of monthly gain percentage\n",
    "MonthlyGainPerVar_tataM = tataMonthly_df['gain%'].var()"
   ]
  },
  {
   "cell_type": "code",
   "execution_count": 78,
   "metadata": {},
   "outputs": [
    {
     "name": "stdout",
     "output_type": "stream",
     "text": [
      "0.0061\n"
     ]
    }
   ],
   "source": [
    "print(round(MonthlyGainPerMean_tataM,4))"
   ]
  },
  {
   "cell_type": "code",
   "execution_count": 79,
   "metadata": {},
   "outputs": [
    {
     "name": "stdout",
     "output_type": "stream",
     "text": [
      "0.2467\n"
     ]
    }
   ],
   "source": [
    "print(round(MonthlyGainPerVar_tataM,4))"
   ]
  },
  {
   "cell_type": "markdown",
   "metadata": {},
   "source": [
    "## b) Which stocok has highest volatility as far as monthly returns is concerned? Draw the box-plot of monthly returns for all the stock in one plot."
   ]
  },
  {
   "cell_type": "markdown",
   "metadata": {},
   "source": [
    "###### ICICI has the highest volatilituy in the monthly stock returns."
   ]
  },
  {
   "cell_type": "code",
   "execution_count": 80,
   "metadata": {
    "collapsed": true
   },
   "outputs": [],
   "source": [
    "# Creating pandas data frame for monthly returns\n",
    "Monthlygain_df = pd.DataFrame(infosysMonthly_df['gain%'])"
   ]
  },
  {
   "cell_type": "code",
   "execution_count": 81,
   "metadata": {
    "collapsed": true
   },
   "outputs": [],
   "source": [
    "Monthlygain_df['icici_gain%'] = iciciMonthly_df['gain%']"
   ]
  },
  {
   "cell_type": "code",
   "execution_count": 82,
   "metadata": {
    "collapsed": true
   },
   "outputs": [],
   "source": [
    "Monthlygain_df['AI_gain%'] = AIMonthly_df['gain%']"
   ]
  },
  {
   "cell_type": "code",
   "execution_count": 83,
   "metadata": {
    "collapsed": true
   },
   "outputs": [],
   "source": [
    "Monthlygain_df['tataM_gain%'] = tataMonthly_df['gain%']"
   ]
  },
  {
   "cell_type": "code",
   "execution_count": 84,
   "metadata": {
    "collapsed": true
   },
   "outputs": [],
   "source": [
    "# Renaming the column names\n",
    "Monthlygain_df.columns = ['infosysMonthly_gain%', 'iciciMonthly_gain%', 'AIMonthly_gain%', 'tataMonthly_gain%']"
   ]
  },
  {
   "cell_type": "code",
   "execution_count": 85,
   "metadata": {},
   "outputs": [
    {
     "data": {
      "text/html": [
       "<div>\n",
       "<style>\n",
       "    .dataframe thead tr:only-child th {\n",
       "        text-align: right;\n",
       "    }\n",
       "\n",
       "    .dataframe thead th {\n",
       "        text-align: left;\n",
       "    }\n",
       "\n",
       "    .dataframe tbody tr th {\n",
       "        vertical-align: top;\n",
       "    }\n",
       "</style>\n",
       "<table border=\"1\" class=\"dataframe\">\n",
       "  <thead>\n",
       "    <tr style=\"text-align: right;\">\n",
       "      <th></th>\n",
       "      <th>infosysMonthly_gain%</th>\n",
       "      <th>iciciMonthly_gain%</th>\n",
       "      <th>AIMonthly_gain%</th>\n",
       "      <th>tataMonthly_gain%</th>\n",
       "    </tr>\n",
       "    <tr>\n",
       "      <th>Date</th>\n",
       "      <th></th>\n",
       "      <th></th>\n",
       "      <th></th>\n",
       "      <th></th>\n",
       "    </tr>\n",
       "  </thead>\n",
       "  <tbody>\n",
       "    <tr>\n",
       "      <th>2014-04-30</th>\n",
       "      <td>-0.223121</td>\n",
       "      <td>0.108062</td>\n",
       "      <td>0.218859</td>\n",
       "      <td>0.175322</td>\n",
       "    </tr>\n",
       "    <tr>\n",
       "      <th>2014-05-31</th>\n",
       "      <td>-0.332377</td>\n",
       "      <td>0.642032</td>\n",
       "      <td>0.247923</td>\n",
       "      <td>0.023776</td>\n",
       "    </tr>\n",
       "    <tr>\n",
       "      <th>2014-06-30</th>\n",
       "      <td>0.480638</td>\n",
       "      <td>0.010795</td>\n",
       "      <td>-0.083522</td>\n",
       "      <td>0.187332</td>\n",
       "    </tr>\n",
       "    <tr>\n",
       "      <th>2014-07-31</th>\n",
       "      <td>0.172867</td>\n",
       "      <td>0.188690</td>\n",
       "      <td>0.471523</td>\n",
       "      <td>0.184840</td>\n",
       "    </tr>\n",
       "    <tr>\n",
       "      <th>2014-08-31</th>\n",
       "      <td>0.354966</td>\n",
       "      <td>0.299741</td>\n",
       "      <td>-0.033210</td>\n",
       "      <td>0.868372</td>\n",
       "    </tr>\n",
       "  </tbody>\n",
       "</table>\n",
       "</div>"
      ],
      "text/plain": [
       "            infosysMonthly_gain%  iciciMonthly_gain%  AIMonthly_gain%  \\\n",
       "Date                                                                    \n",
       "2014-04-30             -0.223121            0.108062         0.218859   \n",
       "2014-05-31             -0.332377            0.642032         0.247923   \n",
       "2014-06-30              0.480638            0.010795        -0.083522   \n",
       "2014-07-31              0.172867            0.188690         0.471523   \n",
       "2014-08-31              0.354966            0.299741        -0.033210   \n",
       "\n",
       "            tataMonthly_gain%  \n",
       "Date                           \n",
       "2014-04-30           0.175322  \n",
       "2014-05-31           0.023776  \n",
       "2014-06-30           0.187332  \n",
       "2014-07-31           0.184840  \n",
       "2014-08-31           0.868372  "
      ]
     },
     "execution_count": 85,
     "metadata": {},
     "output_type": "execute_result"
    }
   ],
   "source": [
    "Monthlygain_df.head(5)"
   ]
  },
  {
   "cell_type": "code",
   "execution_count": 86,
   "metadata": {},
   "outputs": [
    {
     "data": {
      "text/plain": [
       "<matplotlib.axes._subplots.AxesSubplot at 0xba22cc0>"
      ]
     },
     "execution_count": 86,
     "metadata": {},
     "output_type": "execute_result"
    },
    {
     "data": {
      "image/png": "[encoded data removed]",
      "text/plain": [
       "<matplotlib.figure.Figure at 0xb5210b8>"
      ]
     },
     "metadata": {},
     "output_type": "display_data"
    }
   ],
   "source": [
    "# Boxplot - method 1\n",
    "Monthlygain_df.boxplot(column=['infosysMonthly_gain%', 'iciciMonthly_gain%', 'AIMonthly_gain%', 'tataMonthly_gain%' ], grid = False)"
   ]
  },
  {
   "cell_type": "code",
   "execution_count": 87,
   "metadata": {},
   "outputs": [
    {
     "data": {
      "text/plain": [
       "<matplotlib.axes._subplots.AxesSubplot at 0xbc85ba8>"
      ]
     },
     "execution_count": 87,
     "metadata": {},
     "output_type": "execute_result"
    },
    {
     "data": {
      "image/png": "[encoded data removed]",
      "text/plain": [
       "<matplotlib.figure.Figure at 0xb521748>"
      ]
     },
     "metadata": {},
     "output_type": "display_data"
    }
   ],
   "source": [
    "# Boxplot - method 2\n",
    "sn.boxplot(x=\"variable\", y=\"value\", data=pd.melt(Monthlygain_df))"
   ]
  },
  {
   "cell_type": "markdown",
   "metadata": {},
   "source": [
    "## c) Which stock has highest probability of giving a return (monthly) of 2% or more?"
   ]
  },
  {
   "cell_type": "code",
   "execution_count": 88,
   "metadata": {
    "collapsed": true
   },
   "outputs": [],
   "source": [
    "# Returns are normally distributed\n",
    "Prob_infosys = 1 - stats.norm.cdf(0.02,\n",
    "                                  loc = infosysMonthly_df['gain%'].mean(),\n",
    "                                  scale = infosysMonthly_df['gain%'].std())"
   ]
  },
  {
   "cell_type": "code",
   "execution_count": 89,
   "metadata": {},
   "outputs": [
    {
     "name": "stdout",
     "output_type": "stream",
     "text": [
      "0.4532\n"
     ]
    }
   ],
   "source": [
    " print(round(Prob_infosys,4))"
   ]
  },
  {
   "cell_type": "code",
   "execution_count": 90,
   "metadata": {
    "collapsed": true
   },
   "outputs": [],
   "source": [
    "Prob_icici = 1 - stats.norm.cdf(0.02,\n",
    "                                  loc = iciciMonthly_df['gain%'].mean(),\n",
    "                                  scale = iciciMonthly_df['gain%'].std())\n",
    "\n",
    "Prob_AI = 1 - stats.norm.cdf(0.02,\n",
    "                                  loc = AIMonthly_df['gain%'].mean(),\n",
    "                                  scale = AIMonthly_df['gain%'].std())\n",
    "\n",
    "Prob_tataM = 1 - stats.norm.cdf(0.02,\n",
    "                                  loc = tataMonthly_df['gain%'].mean(),\n",
    "                                  scale = tataMonthly_df['gain%'].std())"
   ]
  },
  {
   "cell_type": "code",
   "execution_count": 91,
   "metadata": {},
   "outputs": [
    {
     "name": "stdout",
     "output_type": "stream",
     "text": [
      "0.4632\n"
     ]
    }
   ],
   "source": [
    " print(round(Prob_icici,4))"
   ]
  },
  {
   "cell_type": "code",
   "execution_count": 92,
   "metadata": {},
   "outputs": [
    {
     "name": "stdout",
     "output_type": "stream",
     "text": [
      "0.521\n"
     ]
    }
   ],
   "source": [
    " print(round(Prob_AI,4))"
   ]
  },
  {
   "cell_type": "code",
   "execution_count": 93,
   "metadata": {},
   "outputs": [
    {
     "name": "stdout",
     "output_type": "stream",
     "text": [
      "0.4889\n"
     ]
    }
   ],
   "source": [
    " print(round(Prob_tataM,4))"
   ]
  },
  {
   "cell_type": "markdown",
   "metadata": {},
   "source": [
    "###### Air India has the high probability of returning 2% or more monthly returns."
   ]
  },
  {
   "cell_type": "markdown",
   "metadata": {},
   "source": [
    "## d) Which stock has highest probability of making a loss (monthly) of 2% or more?"
   ]
  },
  {
   "cell_type": "code",
   "execution_count": 94,
   "metadata": {
    "collapsed": true
   },
   "outputs": [],
   "source": [
    "# Returns are normally distributed\n",
    "LossProb_infosys = stats.norm.cdf(-0.01,\n",
    "                                  loc = infosysMonthly_df['gain%'].mean(),\n",
    "                                  scale = infosysMonthly_df['gain%'].std())"
   ]
  },
  {
   "cell_type": "code",
   "execution_count": 95,
   "metadata": {},
   "outputs": [
    {
     "name": "stdout",
     "output_type": "stream",
     "text": [
      "0.5272\n"
     ]
    }
   ],
   "source": [
    "print(round(LossProb_infosys,4))"
   ]
  },
  {
   "cell_type": "code",
   "execution_count": 96,
   "metadata": {
    "collapsed": true
   },
   "outputs": [],
   "source": [
    "LossProb_icici = stats.norm.cdf(-0.02,\n",
    "                                  loc = iciciMonthly_df['gain%'].mean(),\n",
    "                                  scale = iciciMonthly_df['gain%'].std())\n",
    "\n",
    "LossProb_AI = stats.norm.cdf(-0.02,\n",
    "                                  loc = AIMonthly_df['gain%'].mean(),\n",
    "                                  scale = AIMonthly_df['gain%'].std())\n",
    "\n",
    "LossProb_tataM = stats.norm.cdf(-0.02,\n",
    "                                  loc = tataMonthly_df['gain%'].mean(),\n",
    "                                  scale = tataMonthly_df['gain%'].std())"
   ]
  },
  {
   "cell_type": "code",
   "execution_count": 97,
   "metadata": {},
   "outputs": [
    {
     "name": "stdout",
     "output_type": "stream",
     "text": [
      "0.5127\n"
     ]
    }
   ],
   "source": [
    "print(round(LossProb_icici,4))"
   ]
  },
  {
   "cell_type": "code",
   "execution_count": 98,
   "metadata": {},
   "outputs": [
    {
     "name": "stdout",
     "output_type": "stream",
     "text": [
      "0.4384\n"
     ]
    }
   ],
   "source": [
    "print(round(LossProb_AI,4))"
   ]
  },
  {
   "cell_type": "code",
   "execution_count": 99,
   "metadata": {},
   "outputs": [
    {
     "name": "stdout",
     "output_type": "stream",
     "text": [
      "0.479\n"
     ]
    }
   ],
   "source": [
    "print(round(LossProb_tataM,4))"
   ]
  },
  {
   "cell_type": "markdown",
   "metadata": {},
   "source": [
    "##### Infosys has the highest probability to making a loss of 2% or more."
   ]
  },
  {
   "cell_type": "markdown",
   "metadata": {},
   "source": [
    "## Question 3:Portfolio Analysis"
   ]
  },
  {
   "cell_type": "markdown",
   "metadata": {},
   "source": [
    "## a) Average monthly returns of the portfolio and variance of monthly returns of the portfolio?"
   ]
  },
  {
   "cell_type": "code",
   "execution_count": 100,
   "metadata": {
    "collapsed": true
   },
   "outputs": [],
   "source": [
    "# weights list type\n",
    "weights = [0.25, 0.25, 0.25, 0.25]"
   ]
  },
  {
   "cell_type": "code",
   "execution_count": 101,
   "metadata": {},
   "outputs": [
    {
     "data": {
      "text/plain": [
       "list"
      ]
     },
     "execution_count": 101,
     "metadata": {},
     "output_type": "execute_result"
    }
   ],
   "source": [
    "type(weights)"
   ]
  },
  {
   "cell_type": "code",
   "execution_count": 102,
   "metadata": {
    "collapsed": true
   },
   "outputs": [],
   "source": [
    "PortfolioMonthlyReturn = ( (weights[0]*MonthlyGainPerMean_infosys) + \n",
    "                           (weights[1]*MonthlyGainPerMean_icici)   + \n",
    "                           (weights[2]*MonthlyGainPerMean_AI)      + \n",
    "                           (weights[3]*MonthlyGainPerMean_tataM) )"
   ]
  },
  {
   "cell_type": "code",
   "execution_count": 103,
   "metadata": {},
   "outputs": [
    {
     "name": "stdout",
     "output_type": "stream",
     "text": [
      "-0.0115\n"
     ]
    }
   ],
   "source": [
    "print(round(PortfolioMonthlyReturn,4))"
   ]
  },
  {
   "cell_type": "code",
   "execution_count": 104,
   "metadata": {
    "collapsed": true
   },
   "outputs": [],
   "source": [
    "# calculating covariance between the monthly return stock prices\n",
    "covariance_df = Monthlygain_df.cov()"
   ]
  },
  {
   "cell_type": "code",
   "execution_count": 105,
   "metadata": {
    "collapsed": true
   },
   "outputs": [],
   "source": [
    "# Values of Stocks monthly variance\n",
    "StocksVariance = ( [round(MonthlyGainPerVar_infosys,4), \n",
    "                    round(MonthlyGainPerVar_icici,4), \n",
    "                    round(MonthlyGainPerVar_AI,4), \n",
    "                    round(MonthlyGainPerVar_tataM,4) ] )"
   ]
  },
  {
   "cell_type": "code",
   "execution_count": 106,
   "metadata": {
    "collapsed": true
   },
   "outputs": [],
   "source": [
    "# loop to calculate the 1st part of the variance formula\n",
    "VarSum1 =0\n",
    "for i in range(4):\n",
    "        VarSum1 = VarSum1 + ((weights[i])**2)*StocksVariance[i]"
   ]
  },
  {
   "cell_type": "code",
   "execution_count": 107,
   "metadata": {},
   "outputs": [
    {
     "name": "stdout",
     "output_type": "stream",
     "text": [
      "0.0752\n"
     ]
    }
   ],
   "source": [
    "print(round(VarSum1,4))"
   ]
  },
  {
   "cell_type": "code",
   "execution_count": 108,
   "metadata": {
    "collapsed": true
   },
   "outputs": [],
   "source": [
    "# loop to calculate the 2nd part of the variance formula\n",
    "VarSum2 = 0\n",
    "for i in range(4):\n",
    "        j = i+1\n",
    "        if j>3:\n",
    "            j = 0\n",
    "            VarSum2 = VarSum2 + 2*(weights[i]*weights[j]*covariance_df.iloc[i][j])\n",
    "        else:   \n",
    "            VarSum2 = VarSum2 + 2*(weights[i]*weights[j]*covariance_df.iloc[i][j])       "
   ]
  },
  {
   "cell_type": "code",
   "execution_count": 109,
   "metadata": {},
   "outputs": [
    {
     "name": "stdout",
     "output_type": "stream",
     "text": [
      "0.0533\n"
     ]
    }
   ],
   "source": [
    "print(round(VarSum2,4))"
   ]
  },
  {
   "cell_type": "code",
   "execution_count": 110,
   "metadata": {
    "collapsed": true
   },
   "outputs": [],
   "source": [
    "# Variance of portfolio\n",
    "PortfolioVariance = VarSum1 + VarSum2"
   ]
  },
  {
   "cell_type": "code",
   "execution_count": 111,
   "metadata": {},
   "outputs": [
    {
     "name": "stdout",
     "output_type": "stream",
     "text": [
      "0.1285\n"
     ]
    }
   ],
   "source": [
    "print(round(PortfolioVariance,4))"
   ]
  },
  {
   "cell_type": "markdown",
   "metadata": {},
   "source": [
    "## b)If investment on an alternative instrument gives you an average return of 0.5% monthly. Is it wiser to invest in the alternative instrument or the equally weighted portfolio you created above?Can you verify if the above portfolio monthly returns are higher than 0.5%?"
   ]
  },
  {
   "cell_type": "markdown",
   "metadata": {},
   "source": [
    "##### Ans. Yes it is wiser to investment in the alternate instrument as the equal weighted portfolio is has 0.1285% returns.\n",
    "##### Portfolio return value is not higher than 0.5% value."
   ]
  },
  {
   "cell_type": "code",
   "execution_count": 112,
   "metadata": {
    "collapsed": true
   },
   "outputs": [],
   "source": [
    "weights[0] = random.random()"
   ]
  },
  {
   "cell_type": "markdown",
   "metadata": {},
   "source": [
    "## 3c) Randomly change the weights of the stocks in the portfolio and check the average returns and the variance of the portfolio. Create atleast 25 different weight combinations of stocks and calculate the monthly mean returns and variances of all combination of portfolios."
   ]
  },
  {
   "cell_type": "code",
   "execution_count": 113,
   "metadata": {
    "collapsed": true
   },
   "outputs": [],
   "source": [
    "# List type object\n",
    "weightsArray_ls = [[] for i in range(25)]"
   ]
  },
  {
   "cell_type": "code",
   "execution_count": 114,
   "metadata": {
    "collapsed": true
   },
   "outputs": [],
   "source": [
    "# Generating the random number \n",
    "for i in range(25):\n",
    "    weights[0] = random.random()\n",
    "    weights[1] = random.random()\n",
    "    weights[2] = random.random()\n",
    "    weights[3] = random.random()\n",
    "\n",
    "    # Sum the random nummber    \n",
    "    Sum_Weight = weights[0] + weights[1] + weights[2] + weights[3]\n",
    "    \n",
    "    # Divide the random no. of there sum, so as to get the random no. whose sum =1\n",
    "    weights[0] = weights[0]/Sum_Weight\n",
    "    weights[1] = weights[1]/Sum_Weight\n",
    "    weights[2] = weights[2]/Sum_Weight\n",
    "    weights[3] = weights[3]/Sum_Weight\n",
    "    \n",
    "    weightsArray_ls[i] = [weights[0], weights[1], weights[2], weights[3]]\n"
   ]
  },
  {
   "cell_type": "code",
   "execution_count": 115,
   "metadata": {},
   "outputs": [
    {
     "data": {
      "text/plain": [
       "25"
      ]
     },
     "execution_count": 115,
     "metadata": {},
     "output_type": "execute_result"
    }
   ],
   "source": [
    "len(weightsArray_ls)"
   ]
  },
  {
   "cell_type": "code",
   "execution_count": 116,
   "metadata": {
    "collapsed": true
   },
   "outputs": [],
   "source": [
    "# List object\n",
    "PortfolioMonthlyReturnArray_ls = [[] for i in range(25)]\n",
    "PortfolioVarianceArray_ls = [[] for i in range(25)]"
   ]
  },
  {
   "cell_type": "code",
   "execution_count": 117,
   "metadata": {
    "collapsed": true
   },
   "outputs": [],
   "source": [
    "# Mean value of monthly returns\n",
    "for i in range(25):\n",
    "    PortfolioMonthlyReturnArray_ls[i] = (weightsArray_ls[i][0]*MonthlyGainPerMean_infosys) + \\\n",
    "                                        (weightsArray_ls[i][1]*MonthlyGainPerMean_icici)   + \\\n",
    "                                        (weightsArray_ls[i][2]*MonthlyGainPerMean_AI)      + \\\n",
    "                                        (weightsArray_ls[i][3]*MonthlyGainPerMean_tataM)"
   ]
  },
  {
   "cell_type": "code",
   "execution_count": 118,
   "metadata": {},
   "outputs": [
    {
     "name": "stdout",
     "output_type": "stream",
     "text": [
      "[-0.004209627770555103, -0.02386842656280046, -0.024273312511451737, -0.02971604492529095, -0.021038100628379342, 0.0002948301404339898, -0.004093247009137923, -0.0017070738619399113, -0.030643871504729917, -0.0064044444226106076, -0.010567007216802302, -0.0018595642189967745, -0.013852042380975978, -0.016645772503194285, -0.007588988062367555, -0.015295186006751487, -0.01313362870879146, -0.010806500458617665, -0.00207434127276682, -0.006226774709378734, -8.001927726359465e-05, -0.005908883742678541, -0.016797081745636912, -0.003637445609467088, -0.02560703169218601]\n"
     ]
    }
   ],
   "source": [
    "# print the mean value of portfolio (diff weighted returns)\n",
    "print(PortfolioMonthlyReturnArray_ls)"
   ]
  },
  {
   "cell_type": "markdown",
   "metadata": {},
   "source": [
    "###### Almost all of them are showing negative returns."
   ]
  },
  {
   "cell_type": "code",
   "execution_count": 119,
   "metadata": {
    "collapsed": true
   },
   "outputs": [],
   "source": [
    "# list object of 25 elements\n",
    "VarSum1_ls = [0 for i in range(25)]\n",
    "VarSum2_ls = [0 for i in range(25)]\n",
    "\n",
    "# loop to calculate the 1st part of the variance formula\n",
    "for i in range(25):\n",
    "    for j in range(4): \n",
    "        if i == 0:\n",
    "            VarSum1_ls[i] = VarSum1_ls[i] + ((weightsArray_ls[i][j])**2)*StocksVariance[j]\n",
    "        else:\n",
    "            VarSum1_ls[i] = VarSum1_ls[i-1] + ((weightsArray_ls[i][j])**2)*StocksVariance[j]\n",
    "            \n",
    "\n",
    "# loop to calculate the 2nd part of the variance formula\n",
    "for i in range(25):\n",
    "    k = i+1\n",
    "    for j in range(4):\n",
    "        if k>3:\n",
    "            k = 0\n",
    "            if i == 0:\n",
    "                VarSum2_ls[i] = VarSum2_ls[i] + 2*(weightsArray_ls[i][3]*weightsArray_ls[i][0]*covariance_df.iloc[3][0])\n",
    "            else:   \n",
    "                VarSum2_ls[i] = VarSum2_ls[i-1] + 2*(weightsArray_ls[i][3]*weightsArray_ls[i][0]*covariance_df.iloc[3][0])\n",
    "        else:\n",
    "            if i == 0:\n",
    "                VarSum2_ls[i] = VarSum2_ls[i] + 2*(weightsArray_ls[i][k-1]*weightsArray_ls[i][k]*covariance_df.iloc[k-1][k])\n",
    "            else:   \n",
    "                VarSum2_ls[i] = VarSum2_ls[i-1] + 2*(weightsArray_ls[i][k-1]*weightsArray_ls[i][k]*covariance_df.iloc[k-1][k])\n",
    "        \n",
    "        k = k+1           "
   ]
  },
  {
   "cell_type": "code",
   "execution_count": 120,
   "metadata": {
    "collapsed": true
   },
   "outputs": [],
   "source": [
    "# Variance of portfolio\n",
    "for i in range(25):\n",
    "    PortfolioVarianceArray_ls[i] = VarSum1_ls[i] + VarSum2_ls[i]"
   ]
  },
  {
   "cell_type": "code",
   "execution_count": 143,
   "metadata": {
    "collapsed": true
   },
   "outputs": [],
   "source": [
    "# Unzip the list to seperate lists\n",
    "infosys_weight, icici_weight, AI_weight, TataM_weight  = zip(*weightsArray_ls)"
   ]
  },
  {
   "cell_type": "code",
   "execution_count": 145,
   "metadata": {
    "collapsed": true
   },
   "outputs": [],
   "source": [
    "# Data frame with different lists\n",
    "Portfolio_df = pd.DataFrame({'infosys_weight':infosys_weight,\n",
    "                             'icici_weight'  :icici_weight,\n",
    "                             'AI_weight'     :AI_weight,\n",
    "                             'TataM_weight'  :TataM_weight,\n",
    "                             'mean_return'   :PortfolioMonthlyReturnArray_ls,\n",
    "                             'var_returns'   :PortfolioVarianceArray_ls})"
   ]
  },
  {
   "cell_type": "code",
   "execution_count": 152,
   "metadata": {
    "collapsed": true
   },
   "outputs": [],
   "source": [
    "# Standard deviation of stock returns\n",
    "Portfolio_df['std_returns'] = (Portfolio_df['var_returns'])**(1/2)"
   ]
  },
  {
   "cell_type": "code",
   "execution_count": 155,
   "metadata": {
    "collapsed": true
   },
   "outputs": [],
   "source": [
    "# Drop the column from a data frame\n",
    "# Portfolio_df = Portfolio_df.drop('y', 1)"
   ]
  },
  {
   "cell_type": "code",
   "execution_count": 156,
   "metadata": {},
   "outputs": [
    {
     "data": {
      "text/html": [
       "<div>\n",
       "<style>\n",
       "    .dataframe thead tr:only-child th {\n",
       "        text-align: right;\n",
       "    }\n",
       "\n",
       "    .dataframe thead th {\n",
       "        text-align: left;\n",
       "    }\n",
       "\n",
       "    .dataframe tbody tr th {\n",
       "        vertical-align: top;\n",
       "    }\n",
       "</style>\n",
       "<table border=\"1\" class=\"dataframe\">\n",
       "  <thead>\n",
       "    <tr style=\"text-align: right;\">\n",
       "      <th></th>\n",
       "      <th>AI_weight</th>\n",
       "      <th>TataM_weight</th>\n",
       "      <th>icici_weight</th>\n",
       "      <th>infosys_weight</th>\n",
       "      <th>mean_return</th>\n",
       "      <th>var_returns</th>\n",
       "      <th>std_returns</th>\n",
       "    </tr>\n",
       "  </thead>\n",
       "  <tbody>\n",
       "    <tr>\n",
       "      <th>0</th>\n",
       "      <td>0.221717</td>\n",
       "      <td>0.459099</td>\n",
       "      <td>0.040643</td>\n",
       "      <td>0.278541</td>\n",
       "      <td>-0.004210</td>\n",
       "      <td>0.123119</td>\n",
       "      <td>0.350884</td>\n",
       "    </tr>\n",
       "    <tr>\n",
       "      <th>1</th>\n",
       "      <td>0.209068</td>\n",
       "      <td>0.083824</td>\n",
       "      <td>0.339204</td>\n",
       "      <td>0.367904</td>\n",
       "      <td>-0.023868</td>\n",
       "      <td>0.184857</td>\n",
       "      <td>0.429950</td>\n",
       "    </tr>\n",
       "    <tr>\n",
       "      <th>2</th>\n",
       "      <td>0.151292</td>\n",
       "      <td>0.134535</td>\n",
       "      <td>0.529331</td>\n",
       "      <td>0.184842</td>\n",
       "      <td>-0.024273</td>\n",
       "      <td>0.200040</td>\n",
       "      <td>0.447258</td>\n",
       "    </tr>\n",
       "    <tr>\n",
       "      <th>3</th>\n",
       "      <td>0.157246</td>\n",
       "      <td>0.049260</td>\n",
       "      <td>0.426229</td>\n",
       "      <td>0.367266</td>\n",
       "      <td>-0.029716</td>\n",
       "      <td>0.201466</td>\n",
       "      <td>0.448850</td>\n",
       "    </tr>\n",
       "    <tr>\n",
       "      <th>4</th>\n",
       "      <td>0.053913</td>\n",
       "      <td>0.419012</td>\n",
       "      <td>0.128187</td>\n",
       "      <td>0.398889</td>\n",
       "      <td>-0.021038</td>\n",
       "      <td>0.247193</td>\n",
       "      <td>0.497185</td>\n",
       "    </tr>\n",
       "  </tbody>\n",
       "</table>\n",
       "</div>"
      ],
      "text/plain": [
       "   AI_weight  TataM_weight  icici_weight  infosys_weight  mean_return  \\\n",
       "0   0.221717      0.459099      0.040643        0.278541    -0.004210   \n",
       "1   0.209068      0.083824      0.339204        0.367904    -0.023868   \n",
       "2   0.151292      0.134535      0.529331        0.184842    -0.024273   \n",
       "3   0.157246      0.049260      0.426229        0.367266    -0.029716   \n",
       "4   0.053913      0.419012      0.128187        0.398889    -0.021038   \n",
       "\n",
       "   var_returns  std_returns  \n",
       "0     0.123119     0.350884  \n",
       "1     0.184857     0.429950  \n",
       "2     0.200040     0.447258  \n",
       "3     0.201466     0.448850  \n",
       "4     0.247193     0.497185  "
      ]
     },
     "execution_count": 156,
     "metadata": {},
     "output_type": "execute_result"
    }
   ],
   "source": [
    "Portfolio_df.head()"
   ]
  },
  {
   "cell_type": "code",
   "execution_count": null,
   "metadata": {
    "collapsed": true
   },
   "outputs": [],
   "source": []
  }
 ],
 "metadata": {
  "kernelspec": {
   "display_name": "Python 3",
   "language": "python",
   "name": "python3"
  },
  "language_info": {
   "codemirror_mode": {
    "name": "ipython",
    "version": 3
   },
   "file_extension": ".py",
   "mimetype": "text/x-python",
   "name": "python",
   "nbconvert_exporter": "python",
   "pygments_lexer": "ipython3",
   "version": "3.6.8"
  }
 },
 "nbformat": 4,
 "nbformat_minor": 2
}
